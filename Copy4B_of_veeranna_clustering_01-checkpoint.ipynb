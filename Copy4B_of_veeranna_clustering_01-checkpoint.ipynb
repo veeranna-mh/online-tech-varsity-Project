{
 "cells": [
  {
   "cell_type": "markdown",
   "id": "dsrjw5PfqrxN",
   "metadata": {
    "id": "dsrjw5PfqrxN"
   },
   "source": [
    "### File2 of clustering project"
   ]
  },
  {
   "cell_type": "code",
   "execution_count": 1,
   "id": "91d3a3f3-254a-4381-9990-465f5d56fa83",
   "metadata": {
    "colab": {
     "base_uri": "https://localhost:8080/"
    },
    "id": "91d3a3f3-254a-4381-9990-465f5d56fa83",
    "outputId": "6c453fdd-39eb-474b-b02a-abf99b8047f0"
   },
   "outputs": [
    {
     "name": "stdout",
     "output_type": "stream",
     "text": [
      "Mounted at /content/drive\n"
     ]
    }
   ],
   "source": [
    "from google.colab import drive\n",
    "drive.mount('/content/drive')"
   ]
  },
  {
   "cell_type": "code",
   "execution_count": 2,
   "id": "xHCLiRpYfmxg",
   "metadata": {
    "id": "xHCLiRpYfmxg"
   },
   "outputs": [],
   "source": [
    "file_path = '/content/drive/My Drive/scaler_clustering.csv'"
   ]
  },
  {
   "cell_type": "code",
   "execution_count": 3,
   "id": "46c70a37-d250-44b2-ba99-792eaaa1f842",
   "metadata": {
    "id": "46c70a37-d250-44b2-ba99-792eaaa1f842"
   },
   "outputs": [],
   "source": [
    "# Import necessary libraries\n",
    "import pandas as pd\n",
    "import numpy as np\n",
    "import seaborn as sns\n",
    "import matplotlib.pyplot as plt\n",
    "import re\n",
    "from sklearn.cluster import KMeans\n",
    "from sklearn.preprocessing import StandardScaler, LabelEncoder\n",
    "from sklearn.impute import KNNImputer\n",
    "from scipy.cluster.hierarchy import dendrogram, linkage\n"
   ]
  },
  {
   "cell_type": "code",
   "execution_count": 4,
   "id": "80e033da-199a-4270-9a75-182a045d2520",
   "metadata": {
    "id": "80e033da-199a-4270-9a75-182a045d2520"
   },
   "outputs": [],
   "source": [
    "# Load the dataset\n",
    "df = pd.read_csv(file_path)"
   ]
  },
  {
   "cell_type": "code",
   "execution_count": 5,
   "id": "b2120d04-3314-43b8-b4da-c2a51c7090c4",
   "metadata": {
    "colab": {
     "base_uri": "https://localhost:8080/"
    },
    "id": "b2120d04-3314-43b8-b4da-c2a51c7090c4",
    "outputId": "b79624e6-9d89-4880-8500-21a4b7d8633b"
   },
   "outputs": [
    {
     "name": "stdout",
     "output_type": "stream",
     "text": [
      "   index               company_hash  \\\n",
      "0      0             atrgxnnt xzaxv   \n",
      "1      1  qtrxvzwt xzegwgbb rxbxnta   \n",
      "2      2              ojzwnvwnxw vx   \n",
      "3      3                  ngpgutaxv   \n",
      "4      4                 qxen sqghu   \n",
      "\n",
      "                                          email_hash  orgyear      ctc  \\\n",
      "0  6de0a4417d18ab14334c3f43397fc13b30c35149d70c05...   2016.0  1100000   \n",
      "1  b0aaf1ac138b53cb6e039ba2c3d6604a250d02d5145c10...   2018.0   449999   \n",
      "2  4860c670bcd48fb96c02a4b0ae3608ae6fdd98176112e9...   2015.0  2000000   \n",
      "3  effdede7a2e7c2af664c8a31d9346385016128d66bbc58...   2017.0   700000   \n",
      "4  6ff54e709262f55cb999a1c1db8436cb2055d8f79ab520...   2017.0  1400000   \n",
      "\n",
      "         job_position  ctc_updated_year  \n",
      "0               Other              2020  \n",
      "1  FullStack Engineer              2019  \n",
      "2    Backend Engineer              2020  \n",
      "3    Backend Engineer              2019  \n",
      "4  FullStack Engineer              2019  \n"
     ]
    }
   ],
   "source": [
    "# Check the first few rows of the dataset\n",
    "print(df.head())"
   ]
  },
  {
   "cell_type": "code",
   "execution_count": 6,
   "id": "10210239-dac7-4efd-8d3d-37c9ecab05f1",
   "metadata": {
    "colab": {
     "base_uri": "https://localhost:8080/"
    },
    "id": "10210239-dac7-4efd-8d3d-37c9ecab05f1",
    "outputId": "b3baf80b-96a2-4750-e4a4-636fa710df8f"
   },
   "outputs": [
    {
     "name": "stdout",
     "output_type": "stream",
     "text": [
      "(205843, 7)\n"
     ]
    }
   ],
   "source": [
    "# Checking the shape, data types, and missing values\n",
    "print(df.shape)"
   ]
  },
  {
   "cell_type": "code",
   "execution_count": 7,
   "id": "EEaw9HOkiSCH",
   "metadata": {
    "id": "EEaw9HOkiSCH"
   },
   "outputs": [],
   "source": [
    "# Check for duplicates\n",
    "duplicates = df.duplicated()\n"
   ]
  },
  {
   "cell_type": "code",
   "execution_count": 8,
   "id": "cEJUXT0niKex",
   "metadata": {
    "colab": {
     "base_uri": "https://localhost:8080/"
    },
    "id": "cEJUXT0niKex",
    "outputId": "dac3f171-0c32-4707-d25c-5cb40fe04c0c"
   },
   "outputs": [
    {
     "name": "stdout",
     "output_type": "stream",
     "text": [
      "Number of duplicate rows: 0\n"
     ]
    }
   ],
   "source": [
    "# Count the number of duplicate rows\n",
    "num_duplicates = duplicates.sum()\n",
    "print(f\"Number of duplicate rows: {num_duplicates}\")"
   ]
  },
  {
   "cell_type": "code",
   "execution_count": 9,
   "id": "9204ea83-bba3-42bd-8496-8707e2937e55",
   "metadata": {
    "colab": {
     "base_uri": "https://localhost:8080/"
    },
    "id": "9204ea83-bba3-42bd-8496-8707e2937e55",
    "outputId": "b4bbdfd7-698b-44b9-b87e-dc7d20f7cab6"
   },
   "outputs": [
    {
     "name": "stdout",
     "output_type": "stream",
     "text": [
      "<class 'pandas.core.frame.DataFrame'>\n",
      "RangeIndex: 205843 entries, 0 to 205842\n",
      "Data columns (total 7 columns):\n",
      " #   Column            Non-Null Count   Dtype  \n",
      "---  ------            --------------   -----  \n",
      " 0   index             205843 non-null  int64  \n",
      " 1   company_hash      205799 non-null  object \n",
      " 2   email_hash        205843 non-null  object \n",
      " 3   orgyear           205757 non-null  float64\n",
      " 4   ctc               205843 non-null  int64  \n",
      " 5   job_position      153279 non-null  object \n",
      " 6   ctc_updated_year  205843 non-null  int64  \n",
      "dtypes: float64(1), int64(3), object(3)\n",
      "memory usage: 11.0+ MB\n",
      "None\n"
     ]
    }
   ],
   "source": [
    "print(df.info())"
   ]
  },
  {
   "cell_type": "markdown",
   "id": "GjNdCRoOrOb1",
   "metadata": {
    "id": "GjNdCRoOrOb1"
   },
   "source": [
    "I see that orgyear (which is \"employment start year\", ) has afew values which are future years and a few values which lead to more than 50 years of experience, which is not plausible. I would like to remove these rows from the dataset."
   ]
  },
  {
   "cell_type": "code",
   "execution_count": 10,
   "id": "i95src57rL6v",
   "metadata": {
    "id": "i95src57rL6v"
   },
   "outputs": [],
   "source": [
    "# Set the current year\n",
    "current_year = 2024\n"
   ]
  },
  {
   "cell_type": "code",
   "execution_count": 11,
   "id": "3TmMIWgjr4ie",
   "metadata": {
    "id": "3TmMIWgjr4ie"
   },
   "outputs": [],
   "source": [
    "# Detect and eliminate rows where 'orgyear' is in the future or leads to more than 50 years of experience\n",
    "# Define a valid range for 'orgyear': should be less than or equal to the current year, and not more than 50 years old\n",
    "valid_orgyear = (df['orgyear'] <= current_year) & (df['orgyear'] >= current_year - 50)\n",
    "\n"
   ]
  },
  {
   "cell_type": "code",
   "execution_count": 12,
   "id": "B_MTpIT0r4zb",
   "metadata": {
    "id": "B_MTpIT0r4zb"
   },
   "outputs": [],
   "source": [
    "# Filter the dataset to keep only the valid records\n",
    "df_cleaned = df[valid_orgyear]\n",
    "\n"
   ]
  },
  {
   "cell_type": "code",
   "execution_count": 13,
   "id": "4ktFp4Igr5AM",
   "metadata": {
    "colab": {
     "base_uri": "https://localhost:8080/"
    },
    "id": "4ktFp4Igr5AM",
    "outputId": "dba837cb-b70f-4c1c-fd26-6e058d15399d"
   },
   "outputs": [
    {
     "name": "stdout",
     "output_type": "stream",
     "text": [
      "Original dataset size: (205843, 7)\n",
      "Cleaned dataset size: (205665, 7)\n",
      "Number of invalid records removed: 178\n"
     ]
    }
   ],
   "source": [
    "# Check the shape of the cleaned dataframe and number of rows removed\n",
    "print(f\"Original dataset size: {df.shape}\")\n",
    "print(f\"Cleaned dataset size: {df_cleaned.shape}\")\n",
    "print(f\"Number of invalid records removed: {df.shape[0] - df_cleaned.shape[0]}\")"
   ]
  },
  {
   "cell_type": "code",
   "execution_count": 14,
   "id": "p-DoTllmyVo0",
   "metadata": {
    "id": "p-DoTllmyVo0"
   },
   "outputs": [],
   "source": [
    "# Get the invalid rows that were removed\n",
    "invalid_rows = df[~valid_orgyear]\n",
    "\n"
   ]
  },
  {
   "cell_type": "code",
   "execution_count": 15,
   "id": "wxgaeB4ryWAA",
   "metadata": {
    "colab": {
     "base_uri": "https://localhost:8080/"
    },
    "id": "wxgaeB4ryWAA",
    "outputId": "a019fb1a-015b-4728-8542-41df9e9da5d5"
   },
   "outputs": [
    {
     "name": "stdout",
     "output_type": "stream",
     "text": [
      "         index                  company_hash  \\\n",
      "2211      2211                        phrxkv   \n",
      "2333      2333    xgmgn ntwyzgrgsxto ucn rna   \n",
      "2562      2562                            tj   \n",
      "3122      3122                      ft tdwtr   \n",
      "3365      3365                   fyxntyvn lq   \n",
      "...        ...                           ...   \n",
      "196354  197352          vaxnjv mxqrv wvuxnvr   \n",
      "198187  199212                 xb  v onhatzn   \n",
      "202210  203276                     mqvmtzatq   \n",
      "203992  205068  xatv ouvqp ogrhnxgzo ucn rna   \n",
      "205435  206515                      vhngsqxa   \n",
      "\n",
      "                                               email_hash  orgyear      ctc  \\\n",
      "2211    3394674bb6bb1de6289e931853fa0bd131c811e0054a92...   2031.0  1500000   \n",
      "2333    c737ceb66c7f0ce37c2fce087003aa129632a3a2fa4f6c...      NaN   170000   \n",
      "2562    25edac17c77f6f0edeafb86f7a7844d96dc899e193c87e...      NaN   860000   \n",
      "3122    c402eba160abf4e5b5f72af775fc98dbd346f1a081112e...      NaN   600000   \n",
      "3365    38bd913564fa983cd4fb7799e4027d8ed2b0fd6263e15a...      NaN   800000   \n",
      "...                                                   ...      ...      ...   \n",
      "196354  069308440811d578c817c05392f97e8919baac6aa12aa3...      1.0  2900000   \n",
      "198187  9429a19771ae913f169917d380c94f003115aaaf904388...   2025.0   300000   \n",
      "202210  d66f939c4318c1958be5bc9e7b70b741aa61be7493ff58...   2028.0  1300000   \n",
      "203992  7191da2e57dcb0c1301711e889ea72d5cc801e039359b1...  20165.0   850000   \n",
      "205435  3fa8de870da01d863abba8eb6a8ae3df1aa18c18946688...      NaN  2400000   \n",
      "\n",
      "            job_position  ctc_updated_year  \n",
      "2211    Backend Engineer              2020  \n",
      "2333               Other              2020  \n",
      "2562        Data Analyst              2020  \n",
      "3122    Support Engineer              2020  \n",
      "3365                 NaN              2021  \n",
      "...                  ...               ...  \n",
      "196354    Data Scientist              2019  \n",
      "198187             Other              2021  \n",
      "202210  Backend Engineer              2021  \n",
      "203992               NaN              2019  \n",
      "205435               NaN              2020  \n",
      "\n",
      "[178 rows x 7 columns]\n"
     ]
    }
   ],
   "source": [
    "# Display the invalid rows\n",
    "print(invalid_rows)"
   ]
  },
  {
   "cell_type": "code",
   "execution_count": 16,
   "id": "b0b77bad-68a5-45aa-a357-20d2a6a14e62",
   "metadata": {
    "colab": {
     "base_uri": "https://localhost:8080/"
    },
    "id": "b0b77bad-68a5-45aa-a357-20d2a6a14e62",
    "outputId": "02d8aee6-88af-488a-ee96-7f6ec2496ff5"
   },
   "outputs": [
    {
     "name": "stdout",
     "output_type": "stream",
     "text": [
      "index                   0\n",
      "company_hash           44\n",
      "email_hash              0\n",
      "orgyear                 0\n",
      "ctc                     0\n",
      "job_position        52508\n",
      "ctc_updated_year        0\n",
      "dtype: int64\n"
     ]
    }
   ],
   "source": [
    "print(df_cleaned.isnull().sum())"
   ]
  },
  {
   "cell_type": "code",
   "execution_count": 17,
   "id": "82781857-5020-489c-b23a-a42f415a2b05",
   "metadata": {
    "colab": {
     "base_uri": "https://localhost:8080/"
    },
    "id": "82781857-5020-489c-b23a-a42f415a2b05",
    "outputId": "a028054d-76e1-4ff3-d5c8-d4a9043a3616"
   },
   "outputs": [
    {
     "name": "stderr",
     "output_type": "stream",
     "text": [
      "<ipython-input-17-f64e7f3aeabb>:2: SettingWithCopyWarning: \n",
      "A value is trying to be set on a copy of a slice from a DataFrame\n",
      "\n",
      "See the caveats in the documentation: https://pandas.pydata.org/pandas-docs/stable/user_guide/indexing.html#returning-a-view-versus-a-copy\n",
      "  df_cleaned['company_hash'].fillna(df_cleaned['company_hash'].mode()[0], inplace=True)\n"
     ]
    }
   ],
   "source": [
    "# Mode imputation for company_hash\n",
    "df_cleaned['company_hash'].fillna(df_cleaned['company_hash'].mode()[0], inplace=True)"
   ]
  },
  {
   "cell_type": "code",
   "execution_count": 18,
   "id": "97f6aa60-4b9f-4cb2-99ce-11c0ccc89dbf",
   "metadata": {
    "colab": {
     "base_uri": "https://localhost:8080/"
    },
    "id": "97f6aa60-4b9f-4cb2-99ce-11c0ccc89dbf",
    "outputId": "95c89879-080f-4526-deb2-153bd3a5dd4b"
   },
   "outputs": [
    {
     "name": "stdout",
     "output_type": "stream",
     "text": [
      "index                   0\n",
      "company_hash            0\n",
      "email_hash              0\n",
      "orgyear                 0\n",
      "ctc                     0\n",
      "job_position        52508\n",
      "ctc_updated_year        0\n",
      "dtype: int64\n"
     ]
    }
   ],
   "source": [
    "print(df_cleaned.isnull().sum())"
   ]
  },
  {
   "cell_type": "code",
   "execution_count": 19,
   "id": "69f0443b-c4b0-4a44-b213-face62859ac6",
   "metadata": {
    "id": "69f0443b-c4b0-4a44-b213-face62859ac6"
   },
   "outputs": [],
   "source": [
    "# Fill missing values (Mean/ KNN Imputation)\n",
    "# imputer = KNNImputer(n_neighbors=5)"
   ]
  },
  {
   "cell_type": "code",
   "execution_count": 20,
   "id": "6e2dbeb5-87af-459b-86ec-4c23b55200d2",
   "metadata": {
    "id": "6e2dbeb5-87af-459b-86ec-4c23b55200d2"
   },
   "outputs": [],
   "source": [
    "# df_cleaned[['orgyear']] = imputer.fit_transform(df_cleaned[['orgyear']])"
   ]
  },
  {
   "cell_type": "code",
   "execution_count": 21,
   "id": "3b9d31c5-e8f0-481e-94f5-d9e5b3fe0763",
   "metadata": {
    "id": "3b9d31c5-e8f0-481e-94f5-d9e5b3fe0763"
   },
   "outputs": [],
   "source": [
    "# print(df_cleaned.isnull().sum())"
   ]
  },
  {
   "cell_type": "code",
   "execution_count": 22,
   "id": "e32561bd-75d6-4794-9bb8-bf1babb7bec2",
   "metadata": {
    "colab": {
     "base_uri": "https://localhost:8080/"
    },
    "id": "e32561bd-75d6-4794-9bb8-bf1babb7bec2",
    "outputId": "50b48498-2a16-4797-afd6-f28a074eaa76"
   },
   "outputs": [
    {
     "name": "stderr",
     "output_type": "stream",
     "text": [
      "<ipython-input-22-40f87f736f36>:2: SettingWithCopyWarning: \n",
      "A value is trying to be set on a copy of a slice from a DataFrame.\n",
      "Try using .loc[row_indexer,col_indexer] = value instead\n",
      "\n",
      "See the caveats in the documentation: https://pandas.pydata.org/pandas-docs/stable/user_guide/indexing.html#returning-a-view-versus-a-copy\n",
      "  df_cleaned['orgyear'] = df_cleaned['orgyear'].astype(int)\n"
     ]
    }
   ],
   "source": [
    "# Convert orgyear\n",
    "df_cleaned['orgyear'] = df_cleaned['orgyear'].astype(int)"
   ]
  },
  {
   "cell_type": "code",
   "execution_count": 23,
   "id": "b84572ac-857d-486b-beee-f2b349add825",
   "metadata": {
    "colab": {
     "base_uri": "https://localhost:8080/"
    },
    "id": "b84572ac-857d-486b-beee-f2b349add825",
    "outputId": "abcaa333-24bd-4da3-ca42-3d999a5ee560"
   },
   "outputs": [
    {
     "name": "stdout",
     "output_type": "stream",
     "text": [
      "<class 'pandas.core.frame.DataFrame'>\n",
      "Index: 205665 entries, 0 to 205842\n",
      "Data columns (total 7 columns):\n",
      " #   Column            Non-Null Count   Dtype \n",
      "---  ------            --------------   ----- \n",
      " 0   index             205665 non-null  int64 \n",
      " 1   company_hash      205665 non-null  object\n",
      " 2   email_hash        205665 non-null  object\n",
      " 3   orgyear           205665 non-null  int64 \n",
      " 4   ctc               205665 non-null  int64 \n",
      " 5   job_position      153157 non-null  object\n",
      " 6   ctc_updated_year  205665 non-null  int64 \n",
      "dtypes: int64(4), object(3)\n",
      "memory usage: 12.6+ MB\n",
      "None\n"
     ]
    }
   ],
   "source": [
    "print(df_cleaned.info())"
   ]
  },
  {
   "cell_type": "code",
   "execution_count": 24,
   "id": "30d02dbb-8fa5-4f24-b039-b4def05220a8",
   "metadata": {
    "colab": {
     "base_uri": "https://localhost:8080/"
    },
    "id": "30d02dbb-8fa5-4f24-b039-b4def05220a8",
    "outputId": "c08ba5b9-fcc1-49d9-f112-5bdab3a753b4"
   },
   "outputs": [
    {
     "name": "stdout",
     "output_type": "stream",
     "text": [
      "index                   0\n",
      "company_hash            0\n",
      "email_hash              0\n",
      "orgyear                 0\n",
      "ctc                     0\n",
      "job_position        52508\n",
      "ctc_updated_year        0\n",
      "dtype: int64\n"
     ]
    }
   ],
   "source": [
    "print(df_cleaned.isnull().sum())"
   ]
  },
  {
   "cell_type": "code",
   "execution_count": 25,
   "id": "df5efc7b-600f-48b4-9558-5c4cce82b110",
   "metadata": {
    "colab": {
     "base_uri": "https://localhost:8080/"
    },
    "id": "df5efc7b-600f-48b4-9558-5c4cce82b110",
    "outputId": "85e20baa-39ea-4b3f-f5a5-a99f4c75ef70"
   },
   "outputs": [
    {
     "name": "stderr",
     "output_type": "stream",
     "text": [
      "<ipython-input-25-52a7906e5793>:2: SettingWithCopyWarning: \n",
      "A value is trying to be set on a copy of a slice from a DataFrame.\n",
      "Try using .loc[row_indexer,col_indexer] = value instead\n",
      "\n",
      "See the caveats in the documentation: https://pandas.pydata.org/pandas-docs/stable/user_guide/indexing.html#returning-a-view-versus-a-copy\n",
      "  df_cleaned['job_position'] = df_cleaned.groupby('company_hash')['job_position'].transform(lambda x: x.fillna(x.mode()[0] if not x.mode().empty else 'Unknown'))\n"
     ]
    }
   ],
   "source": [
    "# Group by company_hash and fill missing job_position with mode for that company\n",
    "df_cleaned['job_position'] = df_cleaned.groupby('company_hash')['job_position'].transform(lambda x: x.fillna(x.mode()[0] if not x.mode().empty else 'Unknown'))"
   ]
  },
  {
   "cell_type": "code",
   "execution_count": 26,
   "id": "2f0e680d-1686-4a0c-b400-833d2e0024de",
   "metadata": {
    "colab": {
     "base_uri": "https://localhost:8080/"
    },
    "id": "2f0e680d-1686-4a0c-b400-833d2e0024de",
    "outputId": "c8450dbf-825b-4dd0-b011-4893dac6836d"
   },
   "outputs": [
    {
     "name": "stdout",
     "output_type": "stream",
     "text": [
      "index               0\n",
      "company_hash        0\n",
      "email_hash          0\n",
      "orgyear             0\n",
      "ctc                 0\n",
      "job_position        0\n",
      "ctc_updated_year    0\n",
      "dtype: int64\n"
     ]
    }
   ],
   "source": [
    "print(df_cleaned.isnull().sum())"
   ]
  },
  {
   "cell_type": "code",
   "execution_count": 27,
   "id": "f7359011-e363-45f8-9131-ed19219ff12f",
   "metadata": {
    "id": "f7359011-e363-45f8-9131-ed19219ff12f"
   },
   "outputs": [],
   "source": [
    "#############################################################################################"
   ]
  },
  {
   "cell_type": "code",
   "execution_count": 28,
   "id": "6d8ffb21-6cfa-48bd-99e9-ef68224e9d35",
   "metadata": {
    "colab": {
     "base_uri": "https://localhost:8080/",
     "height": 206
    },
    "id": "6d8ffb21-6cfa-48bd-99e9-ef68224e9d35",
    "outputId": "d4287e12-5d3e-409b-bc02-9099bda9b30b"
   },
   "outputs": [
    {
     "data": {
      "application/vnd.google.colaboratory.intrinsic+json": {
       "type": "dataframe",
       "variable_name": "df_cleaned"
      },
      "text/html": [
       "\n",
       "  <div id=\"df-cec38c99-3b08-4653-acbf-2ce89b680fef\" class=\"colab-df-container\">\n",
       "    <div>\n",
       "<style scoped>\n",
       "    .dataframe tbody tr th:only-of-type {\n",
       "        vertical-align: middle;\n",
       "    }\n",
       "\n",
       "    .dataframe tbody tr th {\n",
       "        vertical-align: top;\n",
       "    }\n",
       "\n",
       "    .dataframe thead th {\n",
       "        text-align: right;\n",
       "    }\n",
       "</style>\n",
       "<table border=\"1\" class=\"dataframe\">\n",
       "  <thead>\n",
       "    <tr style=\"text-align: right;\">\n",
       "      <th></th>\n",
       "      <th>index</th>\n",
       "      <th>company_hash</th>\n",
       "      <th>email_hash</th>\n",
       "      <th>orgyear</th>\n",
       "      <th>ctc</th>\n",
       "      <th>job_position</th>\n",
       "      <th>ctc_updated_year</th>\n",
       "    </tr>\n",
       "  </thead>\n",
       "  <tbody>\n",
       "    <tr>\n",
       "      <th>0</th>\n",
       "      <td>0</td>\n",
       "      <td>atrgxnnt xzaxv</td>\n",
       "      <td>6de0a4417d18ab14334c3f43397fc13b30c35149d70c05...</td>\n",
       "      <td>2016</td>\n",
       "      <td>1100000</td>\n",
       "      <td>Other</td>\n",
       "      <td>2020</td>\n",
       "    </tr>\n",
       "    <tr>\n",
       "      <th>1</th>\n",
       "      <td>1</td>\n",
       "      <td>qtrxvzwt xzegwgbb rxbxnta</td>\n",
       "      <td>b0aaf1ac138b53cb6e039ba2c3d6604a250d02d5145c10...</td>\n",
       "      <td>2018</td>\n",
       "      <td>449999</td>\n",
       "      <td>FullStack Engineer</td>\n",
       "      <td>2019</td>\n",
       "    </tr>\n",
       "    <tr>\n",
       "      <th>2</th>\n",
       "      <td>2</td>\n",
       "      <td>ojzwnvwnxw vx</td>\n",
       "      <td>4860c670bcd48fb96c02a4b0ae3608ae6fdd98176112e9...</td>\n",
       "      <td>2015</td>\n",
       "      <td>2000000</td>\n",
       "      <td>Backend Engineer</td>\n",
       "      <td>2020</td>\n",
       "    </tr>\n",
       "    <tr>\n",
       "      <th>3</th>\n",
       "      <td>3</td>\n",
       "      <td>ngpgutaxv</td>\n",
       "      <td>effdede7a2e7c2af664c8a31d9346385016128d66bbc58...</td>\n",
       "      <td>2017</td>\n",
       "      <td>700000</td>\n",
       "      <td>Backend Engineer</td>\n",
       "      <td>2019</td>\n",
       "    </tr>\n",
       "    <tr>\n",
       "      <th>4</th>\n",
       "      <td>4</td>\n",
       "      <td>qxen sqghu</td>\n",
       "      <td>6ff54e709262f55cb999a1c1db8436cb2055d8f79ab520...</td>\n",
       "      <td>2017</td>\n",
       "      <td>1400000</td>\n",
       "      <td>FullStack Engineer</td>\n",
       "      <td>2019</td>\n",
       "    </tr>\n",
       "  </tbody>\n",
       "</table>\n",
       "</div>\n",
       "    <div class=\"colab-df-buttons\">\n",
       "\n",
       "  <div class=\"colab-df-container\">\n",
       "    <button class=\"colab-df-convert\" onclick=\"convertToInteractive('df-cec38c99-3b08-4653-acbf-2ce89b680fef')\"\n",
       "            title=\"Convert this dataframe to an interactive table.\"\n",
       "            style=\"display:none;\">\n",
       "\n",
       "  <svg xmlns=\"http://www.w3.org/2000/svg\" height=\"24px\" viewBox=\"0 -960 960 960\">\n",
       "    <path d=\"M120-120v-720h720v720H120Zm60-500h600v-160H180v160Zm220 220h160v-160H400v160Zm0 220h160v-160H400v160ZM180-400h160v-160H180v160Zm440 0h160v-160H620v160ZM180-180h160v-160H180v160Zm440 0h160v-160H620v160Z\"/>\n",
       "  </svg>\n",
       "    </button>\n",
       "\n",
       "  <style>\n",
       "    .colab-df-container {\n",
       "      display:flex;\n",
       "      gap: 12px;\n",
       "    }\n",
       "\n",
       "    .colab-df-convert {\n",
       "      background-color: #E8F0FE;\n",
       "      border: none;\n",
       "      border-radius: 50%;\n",
       "      cursor: pointer;\n",
       "      display: none;\n",
       "      fill: #1967D2;\n",
       "      height: 32px;\n",
       "      padding: 0 0 0 0;\n",
       "      width: 32px;\n",
       "    }\n",
       "\n",
       "    .colab-df-convert:hover {\n",
       "      background-color: #E2EBFA;\n",
       "      box-shadow: 0px 1px 2px rgba(60, 64, 67, 0.3), 0px 1px 3px 1px rgba(60, 64, 67, 0.15);\n",
       "      fill: #174EA6;\n",
       "    }\n",
       "\n",
       "    .colab-df-buttons div {\n",
       "      margin-bottom: 4px;\n",
       "    }\n",
       "\n",
       "    [theme=dark] .colab-df-convert {\n",
       "      background-color: #3B4455;\n",
       "      fill: #D2E3FC;\n",
       "    }\n",
       "\n",
       "    [theme=dark] .colab-df-convert:hover {\n",
       "      background-color: #434B5C;\n",
       "      box-shadow: 0px 1px 3px 1px rgba(0, 0, 0, 0.15);\n",
       "      filter: drop-shadow(0px 1px 2px rgba(0, 0, 0, 0.3));\n",
       "      fill: #FFFFFF;\n",
       "    }\n",
       "  </style>\n",
       "\n",
       "    <script>\n",
       "      const buttonEl =\n",
       "        document.querySelector('#df-cec38c99-3b08-4653-acbf-2ce89b680fef button.colab-df-convert');\n",
       "      buttonEl.style.display =\n",
       "        google.colab.kernel.accessAllowed ? 'block' : 'none';\n",
       "\n",
       "      async function convertToInteractive(key) {\n",
       "        const element = document.querySelector('#df-cec38c99-3b08-4653-acbf-2ce89b680fef');\n",
       "        const dataTable =\n",
       "          await google.colab.kernel.invokeFunction('convertToInteractive',\n",
       "                                                    [key], {});\n",
       "        if (!dataTable) return;\n",
       "\n",
       "        const docLinkHtml = 'Like what you see? Visit the ' +\n",
       "          '<a target=\"_blank\" href=https://colab.research.google.com/notebooks/data_table.ipynb>data table notebook</a>'\n",
       "          + ' to learn more about interactive tables.';\n",
       "        element.innerHTML = '';\n",
       "        dataTable['output_type'] = 'display_data';\n",
       "        await google.colab.output.renderOutput(dataTable, element);\n",
       "        const docLink = document.createElement('div');\n",
       "        docLink.innerHTML = docLinkHtml;\n",
       "        element.appendChild(docLink);\n",
       "      }\n",
       "    </script>\n",
       "  </div>\n",
       "\n",
       "\n",
       "<div id=\"df-5308b233-aff3-4989-ac49-de103fd4ee87\">\n",
       "  <button class=\"colab-df-quickchart\" onclick=\"quickchart('df-5308b233-aff3-4989-ac49-de103fd4ee87')\"\n",
       "            title=\"Suggest charts\"\n",
       "            style=\"display:none;\">\n",
       "\n",
       "<svg xmlns=\"http://www.w3.org/2000/svg\" height=\"24px\"viewBox=\"0 0 24 24\"\n",
       "     width=\"24px\">\n",
       "    <g>\n",
       "        <path d=\"M19 3H5c-1.1 0-2 .9-2 2v14c0 1.1.9 2 2 2h14c1.1 0 2-.9 2-2V5c0-1.1-.9-2-2-2zM9 17H7v-7h2v7zm4 0h-2V7h2v10zm4 0h-2v-4h2v4z\"/>\n",
       "    </g>\n",
       "</svg>\n",
       "  </button>\n",
       "\n",
       "<style>\n",
       "  .colab-df-quickchart {\n",
       "      --bg-color: #E8F0FE;\n",
       "      --fill-color: #1967D2;\n",
       "      --hover-bg-color: #E2EBFA;\n",
       "      --hover-fill-color: #174EA6;\n",
       "      --disabled-fill-color: #AAA;\n",
       "      --disabled-bg-color: #DDD;\n",
       "  }\n",
       "\n",
       "  [theme=dark] .colab-df-quickchart {\n",
       "      --bg-color: #3B4455;\n",
       "      --fill-color: #D2E3FC;\n",
       "      --hover-bg-color: #434B5C;\n",
       "      --hover-fill-color: #FFFFFF;\n",
       "      --disabled-bg-color: #3B4455;\n",
       "      --disabled-fill-color: #666;\n",
       "  }\n",
       "\n",
       "  .colab-df-quickchart {\n",
       "    background-color: var(--bg-color);\n",
       "    border: none;\n",
       "    border-radius: 50%;\n",
       "    cursor: pointer;\n",
       "    display: none;\n",
       "    fill: var(--fill-color);\n",
       "    height: 32px;\n",
       "    padding: 0;\n",
       "    width: 32px;\n",
       "  }\n",
       "\n",
       "  .colab-df-quickchart:hover {\n",
       "    background-color: var(--hover-bg-color);\n",
       "    box-shadow: 0 1px 2px rgba(60, 64, 67, 0.3), 0 1px 3px 1px rgba(60, 64, 67, 0.15);\n",
       "    fill: var(--button-hover-fill-color);\n",
       "  }\n",
       "\n",
       "  .colab-df-quickchart-complete:disabled,\n",
       "  .colab-df-quickchart-complete:disabled:hover {\n",
       "    background-color: var(--disabled-bg-color);\n",
       "    fill: var(--disabled-fill-color);\n",
       "    box-shadow: none;\n",
       "  }\n",
       "\n",
       "  .colab-df-spinner {\n",
       "    border: 2px solid var(--fill-color);\n",
       "    border-color: transparent;\n",
       "    border-bottom-color: var(--fill-color);\n",
       "    animation:\n",
       "      spin 1s steps(1) infinite;\n",
       "  }\n",
       "\n",
       "  @keyframes spin {\n",
       "    0% {\n",
       "      border-color: transparent;\n",
       "      border-bottom-color: var(--fill-color);\n",
       "      border-left-color: var(--fill-color);\n",
       "    }\n",
       "    20% {\n",
       "      border-color: transparent;\n",
       "      border-left-color: var(--fill-color);\n",
       "      border-top-color: var(--fill-color);\n",
       "    }\n",
       "    30% {\n",
       "      border-color: transparent;\n",
       "      border-left-color: var(--fill-color);\n",
       "      border-top-color: var(--fill-color);\n",
       "      border-right-color: var(--fill-color);\n",
       "    }\n",
       "    40% {\n",
       "      border-color: transparent;\n",
       "      border-right-color: var(--fill-color);\n",
       "      border-top-color: var(--fill-color);\n",
       "    }\n",
       "    60% {\n",
       "      border-color: transparent;\n",
       "      border-right-color: var(--fill-color);\n",
       "    }\n",
       "    80% {\n",
       "      border-color: transparent;\n",
       "      border-right-color: var(--fill-color);\n",
       "      border-bottom-color: var(--fill-color);\n",
       "    }\n",
       "    90% {\n",
       "      border-color: transparent;\n",
       "      border-bottom-color: var(--fill-color);\n",
       "    }\n",
       "  }\n",
       "</style>\n",
       "\n",
       "  <script>\n",
       "    async function quickchart(key) {\n",
       "      const quickchartButtonEl =\n",
       "        document.querySelector('#' + key + ' button');\n",
       "      quickchartButtonEl.disabled = true;  // To prevent multiple clicks.\n",
       "      quickchartButtonEl.classList.add('colab-df-spinner');\n",
       "      try {\n",
       "        const charts = await google.colab.kernel.invokeFunction(\n",
       "            'suggestCharts', [key], {});\n",
       "      } catch (error) {\n",
       "        console.error('Error during call to suggestCharts:', error);\n",
       "      }\n",
       "      quickchartButtonEl.classList.remove('colab-df-spinner');\n",
       "      quickchartButtonEl.classList.add('colab-df-quickchart-complete');\n",
       "    }\n",
       "    (() => {\n",
       "      let quickchartButtonEl =\n",
       "        document.querySelector('#df-5308b233-aff3-4989-ac49-de103fd4ee87 button');\n",
       "      quickchartButtonEl.style.display =\n",
       "        google.colab.kernel.accessAllowed ? 'block' : 'none';\n",
       "    })();\n",
       "  </script>\n",
       "</div>\n",
       "\n",
       "    </div>\n",
       "  </div>\n"
      ],
      "text/plain": [
       "   index               company_hash  \\\n",
       "0      0             atrgxnnt xzaxv   \n",
       "1      1  qtrxvzwt xzegwgbb rxbxnta   \n",
       "2      2              ojzwnvwnxw vx   \n",
       "3      3                  ngpgutaxv   \n",
       "4      4                 qxen sqghu   \n",
       "\n",
       "                                          email_hash  orgyear      ctc  \\\n",
       "0  6de0a4417d18ab14334c3f43397fc13b30c35149d70c05...     2016  1100000   \n",
       "1  b0aaf1ac138b53cb6e039ba2c3d6604a250d02d5145c10...     2018   449999   \n",
       "2  4860c670bcd48fb96c02a4b0ae3608ae6fdd98176112e9...     2015  2000000   \n",
       "3  effdede7a2e7c2af664c8a31d9346385016128d66bbc58...     2017   700000   \n",
       "4  6ff54e709262f55cb999a1c1db8436cb2055d8f79ab520...     2017  1400000   \n",
       "\n",
       "         job_position  ctc_updated_year  \n",
       "0               Other              2020  \n",
       "1  FullStack Engineer              2019  \n",
       "2    Backend Engineer              2020  \n",
       "3    Backend Engineer              2019  \n",
       "4  FullStack Engineer              2019  "
      ]
     },
     "execution_count": 28,
     "metadata": {},
     "output_type": "execute_result"
    }
   ],
   "source": [
    "df_cleaned.head()"
   ]
  },
  {
   "cell_type": "code",
   "execution_count": 29,
   "id": "3c1db0a9-57d4-44a2-919a-802c11aebca0",
   "metadata": {
    "colab": {
     "base_uri": "https://localhost:8080/"
    },
    "id": "3c1db0a9-57d4-44a2-919a-802c11aebca0",
    "outputId": "cae4b3b7-ed2b-4474-f161-7e06153156be"
   },
   "outputs": [
    {
     "name": "stdout",
     "output_type": "stream",
     "text": [
      "email_hash\n",
      "bbace3cc586400bbc65765bc6a16b77d8913836cfc98b77c05488f02f5714a4b    10\n",
      "3e5e49daa5527a6d5a33599b238bf9bf31e85b9efa9a94f1c88c5e15a6f31378     9\n",
      "6842660273f70e9aa239026ba33bfe82275d6ab0d20124021b952b5bc3d07e6c     9\n",
      "298528ce3160cc761e4dc37a07337ee2e0589df251d73645aae209b010210eee     9\n",
      "d15041f58bb01c8ee29f72e33b136e26bc32f3169a40b53d75fe7ae9cbb9a551     8\n",
      "                                                                    ..\n",
      "6ed7767a6ba36e8ab4f4d2397a4d32f26f34387720645906bf51a05c2152fd56     1\n",
      "9778d2fa1bbfb721c3e90941cb3474740610d301f2ccf1429f5c6835ae5e27f4     1\n",
      "9a891d279335db60cd6a45c2243bca2c56f940e31c5a812a6f642ea800832c4b     1\n",
      "e96207e084f4552ba131598c704d2c5f12373999fc66285f58dea00afb9d333c     1\n",
      "0bcfc1d05f2e8dc4147743a1313aa70a119b41b30d4a1f7e738a6a87d3712c31     1\n",
      "Name: count, Length: 153292, dtype: int64\n"
     ]
    }
   ],
   "source": [
    "# Unique email hashes and frequency of occurrences\n",
    "print(df_cleaned['email_hash'].value_counts())"
   ]
  },
  {
   "cell_type": "code",
   "execution_count": 30,
   "id": "254a875f-6ab5-4681-8a84-c9b078b668f3",
   "metadata": {
    "colab": {
     "base_uri": "https://localhost:8080/"
    },
    "id": "254a875f-6ab5-4681-8a84-c9b078b668f3",
    "outputId": "d11b30c6-e71d-4357-f396-ad7331a7e805"
   },
   "outputs": [
    {
     "name": "stderr",
     "output_type": "stream",
     "text": [
      "<ipython-input-30-eb3fda435fdc>:2: SettingWithCopyWarning: \n",
      "A value is trying to be set on a copy of a slice from a DataFrame.\n",
      "Try using .loc[row_indexer,col_indexer] = value instead\n",
      "\n",
      "See the caveats in the documentation: https://pandas.pydata.org/pandas-docs/stable/user_guide/indexing.html#returning-a-view-versus-a-copy\n",
      "  df_cleaned['company_hash_cleaned'] = df_cleaned['company_hash'].apply(lambda x: re.sub('[^A-Za-z0-9 ]+', '', str(x)))\n"
     ]
    }
   ],
   "source": [
    "# Remove special characters from Company_hash\n",
    "df_cleaned['company_hash_cleaned'] = df_cleaned['company_hash'].apply(lambda x: re.sub('[^A-Za-z0-9 ]+', '', str(x)))"
   ]
  },
  {
   "cell_type": "code",
   "execution_count": 31,
   "id": "6a74Khlqj9sI",
   "metadata": {
    "colab": {
     "base_uri": "https://localhost:8080/"
    },
    "id": "6a74Khlqj9sI",
    "outputId": "b3c15664-1350-46ce-e1b3-7fae9a8324ce"
   },
   "outputs": [
    {
     "name": "stdout",
     "output_type": "stream",
     "text": [
      "company_hash_cleaned\n",
      "nvnv wgzohrnvzwj otqcxwto    8379\n",
      "xzegojo                      5378\n",
      "vbvkgz                       3480\n",
      "zgn vuurxwvmrt vwwghzn       3408\n",
      "wgszxkvzn                    3238\n",
      "                             ... \n",
      "bvpt owyggr                     1\n",
      "vhngsqxa xzaxv                  1\n",
      "ctavznh td kteg                 1\n",
      "ihxwprgsxw ogenfvqt             1\n",
      "bvptbjnqxu td vbvkgz            1\n",
      "Name: count, Length: 37246, dtype: int64\n"
     ]
    }
   ],
   "source": [
    "# Unique \"company_hash_cleaned\" hashes and frequency of occurrences\n",
    "print(df_cleaned['company_hash_cleaned'].value_counts())"
   ]
  },
  {
   "cell_type": "code",
   "execution_count": 32,
   "id": "ac6ddb24-9556-48e6-b6ad-d062fa235c73",
   "metadata": {
    "colab": {
     "base_uri": "https://localhost:8080/"
    },
    "id": "ac6ddb24-9556-48e6-b6ad-d062fa235c73",
    "outputId": "5aa6b64c-fb01-425f-c01a-d7a6d7b15677"
   },
   "outputs": [
    {
     "name": "stderr",
     "output_type": "stream",
     "text": [
      "<ipython-input-32-d2a89671a684>:2: SettingWithCopyWarning: \n",
      "A value is trying to be set on a copy of a slice from a DataFrame\n",
      "\n",
      "See the caveats in the documentation: https://pandas.pydata.org/pandas-docs/stable/user_guide/indexing.html#returning-a-view-versus-a-copy\n",
      "  df_cleaned.drop(columns=['company_hash'], inplace=True)\n"
     ]
    }
   ],
   "source": [
    "# Dropping the 'company_hash' column from the DataFrame\n",
    "df_cleaned.drop(columns=['company_hash'], inplace=True)"
   ]
  },
  {
   "cell_type": "code",
   "execution_count": 33,
   "id": "2e2cf69e-cfec-48d1-a836-3a41c0994fbe",
   "metadata": {
    "colab": {
     "base_uri": "https://localhost:8080/"
    },
    "id": "2e2cf69e-cfec-48d1-a836-3a41c0994fbe",
    "outputId": "adf45d50-b5fe-40e8-b2ca-5ace8c4d6700"
   },
   "outputs": [
    {
     "name": "stdout",
     "output_type": "stream",
     "text": [
      "(205665, 7)\n"
     ]
    }
   ],
   "source": [
    "print(df_cleaned.shape)"
   ]
  },
  {
   "cell_type": "code",
   "execution_count": 34,
   "id": "0f557ba7-229b-492c-a7f6-d48edf5aacdd",
   "metadata": {
    "colab": {
     "base_uri": "https://localhost:8080/"
    },
    "id": "0f557ba7-229b-492c-a7f6-d48edf5aacdd",
    "outputId": "6d15edc1-2035-4caf-e405-54db644454cf"
   },
   "outputs": [
    {
     "name": "stderr",
     "output_type": "stream",
     "text": [
      "<ipython-input-34-c3a4f380c3bf>:3: SettingWithCopyWarning: \n",
      "A value is trying to be set on a copy of a slice from a DataFrame.\n",
      "Try using .loc[row_indexer,col_indexer] = value instead\n",
      "\n",
      "See the caveats in the documentation: https://pandas.pydata.org/pandas-docs/stable/user_guide/indexing.html#returning-a-view-versus-a-copy\n",
      "  df_cleaned['Years_of_Experience'] = current_year - df_cleaned['orgyear']\n"
     ]
    }
   ],
   "source": [
    "# Create new feature 'Years_of_Experience'\n",
    "current_year = 2024\n",
    "df_cleaned['Years_of_Experience'] = current_year - df_cleaned['orgyear']"
   ]
  },
  {
   "cell_type": "code",
   "execution_count": 35,
   "id": "78c5204c-fa1c-4f41-920b-b13a3ece8f32",
   "metadata": {
    "colab": {
     "base_uri": "https://localhost:8080/",
     "height": 206
    },
    "id": "78c5204c-fa1c-4f41-920b-b13a3ece8f32",
    "outputId": "4f4f7084-ba33-4876-b0c5-ecc6be9671d8"
   },
   "outputs": [
    {
     "data": {
      "application/vnd.google.colaboratory.intrinsic+json": {
       "type": "dataframe",
       "variable_name": "df_cleaned"
      },
      "text/html": [
       "\n",
       "  <div id=\"df-2820e73a-85b4-448f-8a75-5fdb849d4c25\" class=\"colab-df-container\">\n",
       "    <div>\n",
       "<style scoped>\n",
       "    .dataframe tbody tr th:only-of-type {\n",
       "        vertical-align: middle;\n",
       "    }\n",
       "\n",
       "    .dataframe tbody tr th {\n",
       "        vertical-align: top;\n",
       "    }\n",
       "\n",
       "    .dataframe thead th {\n",
       "        text-align: right;\n",
       "    }\n",
       "</style>\n",
       "<table border=\"1\" class=\"dataframe\">\n",
       "  <thead>\n",
       "    <tr style=\"text-align: right;\">\n",
       "      <th></th>\n",
       "      <th>index</th>\n",
       "      <th>email_hash</th>\n",
       "      <th>orgyear</th>\n",
       "      <th>ctc</th>\n",
       "      <th>job_position</th>\n",
       "      <th>ctc_updated_year</th>\n",
       "      <th>company_hash_cleaned</th>\n",
       "      <th>Years_of_Experience</th>\n",
       "    </tr>\n",
       "  </thead>\n",
       "  <tbody>\n",
       "    <tr>\n",
       "      <th>0</th>\n",
       "      <td>0</td>\n",
       "      <td>6de0a4417d18ab14334c3f43397fc13b30c35149d70c05...</td>\n",
       "      <td>2016</td>\n",
       "      <td>1100000</td>\n",
       "      <td>Other</td>\n",
       "      <td>2020</td>\n",
       "      <td>atrgxnnt xzaxv</td>\n",
       "      <td>8</td>\n",
       "    </tr>\n",
       "    <tr>\n",
       "      <th>1</th>\n",
       "      <td>1</td>\n",
       "      <td>b0aaf1ac138b53cb6e039ba2c3d6604a250d02d5145c10...</td>\n",
       "      <td>2018</td>\n",
       "      <td>449999</td>\n",
       "      <td>FullStack Engineer</td>\n",
       "      <td>2019</td>\n",
       "      <td>qtrxvzwt xzegwgbb rxbxnta</td>\n",
       "      <td>6</td>\n",
       "    </tr>\n",
       "    <tr>\n",
       "      <th>2</th>\n",
       "      <td>2</td>\n",
       "      <td>4860c670bcd48fb96c02a4b0ae3608ae6fdd98176112e9...</td>\n",
       "      <td>2015</td>\n",
       "      <td>2000000</td>\n",
       "      <td>Backend Engineer</td>\n",
       "      <td>2020</td>\n",
       "      <td>ojzwnvwnxw vx</td>\n",
       "      <td>9</td>\n",
       "    </tr>\n",
       "    <tr>\n",
       "      <th>3</th>\n",
       "      <td>3</td>\n",
       "      <td>effdede7a2e7c2af664c8a31d9346385016128d66bbc58...</td>\n",
       "      <td>2017</td>\n",
       "      <td>700000</td>\n",
       "      <td>Backend Engineer</td>\n",
       "      <td>2019</td>\n",
       "      <td>ngpgutaxv</td>\n",
       "      <td>7</td>\n",
       "    </tr>\n",
       "    <tr>\n",
       "      <th>4</th>\n",
       "      <td>4</td>\n",
       "      <td>6ff54e709262f55cb999a1c1db8436cb2055d8f79ab520...</td>\n",
       "      <td>2017</td>\n",
       "      <td>1400000</td>\n",
       "      <td>FullStack Engineer</td>\n",
       "      <td>2019</td>\n",
       "      <td>qxen sqghu</td>\n",
       "      <td>7</td>\n",
       "    </tr>\n",
       "  </tbody>\n",
       "</table>\n",
       "</div>\n",
       "    <div class=\"colab-df-buttons\">\n",
       "\n",
       "  <div class=\"colab-df-container\">\n",
       "    <button class=\"colab-df-convert\" onclick=\"convertToInteractive('df-2820e73a-85b4-448f-8a75-5fdb849d4c25')\"\n",
       "            title=\"Convert this dataframe to an interactive table.\"\n",
       "            style=\"display:none;\">\n",
       "\n",
       "  <svg xmlns=\"http://www.w3.org/2000/svg\" height=\"24px\" viewBox=\"0 -960 960 960\">\n",
       "    <path d=\"M120-120v-720h720v720H120Zm60-500h600v-160H180v160Zm220 220h160v-160H400v160Zm0 220h160v-160H400v160ZM180-400h160v-160H180v160Zm440 0h160v-160H620v160ZM180-180h160v-160H180v160Zm440 0h160v-160H620v160Z\"/>\n",
       "  </svg>\n",
       "    </button>\n",
       "\n",
       "  <style>\n",
       "    .colab-df-container {\n",
       "      display:flex;\n",
       "      gap: 12px;\n",
       "    }\n",
       "\n",
       "    .colab-df-convert {\n",
       "      background-color: #E8F0FE;\n",
       "      border: none;\n",
       "      border-radius: 50%;\n",
       "      cursor: pointer;\n",
       "      display: none;\n",
       "      fill: #1967D2;\n",
       "      height: 32px;\n",
       "      padding: 0 0 0 0;\n",
       "      width: 32px;\n",
       "    }\n",
       "\n",
       "    .colab-df-convert:hover {\n",
       "      background-color: #E2EBFA;\n",
       "      box-shadow: 0px 1px 2px rgba(60, 64, 67, 0.3), 0px 1px 3px 1px rgba(60, 64, 67, 0.15);\n",
       "      fill: #174EA6;\n",
       "    }\n",
       "\n",
       "    .colab-df-buttons div {\n",
       "      margin-bottom: 4px;\n",
       "    }\n",
       "\n",
       "    [theme=dark] .colab-df-convert {\n",
       "      background-color: #3B4455;\n",
       "      fill: #D2E3FC;\n",
       "    }\n",
       "\n",
       "    [theme=dark] .colab-df-convert:hover {\n",
       "      background-color: #434B5C;\n",
       "      box-shadow: 0px 1px 3px 1px rgba(0, 0, 0, 0.15);\n",
       "      filter: drop-shadow(0px 1px 2px rgba(0, 0, 0, 0.3));\n",
       "      fill: #FFFFFF;\n",
       "    }\n",
       "  </style>\n",
       "\n",
       "    <script>\n",
       "      const buttonEl =\n",
       "        document.querySelector('#df-2820e73a-85b4-448f-8a75-5fdb849d4c25 button.colab-df-convert');\n",
       "      buttonEl.style.display =\n",
       "        google.colab.kernel.accessAllowed ? 'block' : 'none';\n",
       "\n",
       "      async function convertToInteractive(key) {\n",
       "        const element = document.querySelector('#df-2820e73a-85b4-448f-8a75-5fdb849d4c25');\n",
       "        const dataTable =\n",
       "          await google.colab.kernel.invokeFunction('convertToInteractive',\n",
       "                                                    [key], {});\n",
       "        if (!dataTable) return;\n",
       "\n",
       "        const docLinkHtml = 'Like what you see? Visit the ' +\n",
       "          '<a target=\"_blank\" href=https://colab.research.google.com/notebooks/data_table.ipynb>data table notebook</a>'\n",
       "          + ' to learn more about interactive tables.';\n",
       "        element.innerHTML = '';\n",
       "        dataTable['output_type'] = 'display_data';\n",
       "        await google.colab.output.renderOutput(dataTable, element);\n",
       "        const docLink = document.createElement('div');\n",
       "        docLink.innerHTML = docLinkHtml;\n",
       "        element.appendChild(docLink);\n",
       "      }\n",
       "    </script>\n",
       "  </div>\n",
       "\n",
       "\n",
       "<div id=\"df-f998c56e-e9e7-4595-8965-3cbb81d9b285\">\n",
       "  <button class=\"colab-df-quickchart\" onclick=\"quickchart('df-f998c56e-e9e7-4595-8965-3cbb81d9b285')\"\n",
       "            title=\"Suggest charts\"\n",
       "            style=\"display:none;\">\n",
       "\n",
       "<svg xmlns=\"http://www.w3.org/2000/svg\" height=\"24px\"viewBox=\"0 0 24 24\"\n",
       "     width=\"24px\">\n",
       "    <g>\n",
       "        <path d=\"M19 3H5c-1.1 0-2 .9-2 2v14c0 1.1.9 2 2 2h14c1.1 0 2-.9 2-2V5c0-1.1-.9-2-2-2zM9 17H7v-7h2v7zm4 0h-2V7h2v10zm4 0h-2v-4h2v4z\"/>\n",
       "    </g>\n",
       "</svg>\n",
       "  </button>\n",
       "\n",
       "<style>\n",
       "  .colab-df-quickchart {\n",
       "      --bg-color: #E8F0FE;\n",
       "      --fill-color: #1967D2;\n",
       "      --hover-bg-color: #E2EBFA;\n",
       "      --hover-fill-color: #174EA6;\n",
       "      --disabled-fill-color: #AAA;\n",
       "      --disabled-bg-color: #DDD;\n",
       "  }\n",
       "\n",
       "  [theme=dark] .colab-df-quickchart {\n",
       "      --bg-color: #3B4455;\n",
       "      --fill-color: #D2E3FC;\n",
       "      --hover-bg-color: #434B5C;\n",
       "      --hover-fill-color: #FFFFFF;\n",
       "      --disabled-bg-color: #3B4455;\n",
       "      --disabled-fill-color: #666;\n",
       "  }\n",
       "\n",
       "  .colab-df-quickchart {\n",
       "    background-color: var(--bg-color);\n",
       "    border: none;\n",
       "    border-radius: 50%;\n",
       "    cursor: pointer;\n",
       "    display: none;\n",
       "    fill: var(--fill-color);\n",
       "    height: 32px;\n",
       "    padding: 0;\n",
       "    width: 32px;\n",
       "  }\n",
       "\n",
       "  .colab-df-quickchart:hover {\n",
       "    background-color: var(--hover-bg-color);\n",
       "    box-shadow: 0 1px 2px rgba(60, 64, 67, 0.3), 0 1px 3px 1px rgba(60, 64, 67, 0.15);\n",
       "    fill: var(--button-hover-fill-color);\n",
       "  }\n",
       "\n",
       "  .colab-df-quickchart-complete:disabled,\n",
       "  .colab-df-quickchart-complete:disabled:hover {\n",
       "    background-color: var(--disabled-bg-color);\n",
       "    fill: var(--disabled-fill-color);\n",
       "    box-shadow: none;\n",
       "  }\n",
       "\n",
       "  .colab-df-spinner {\n",
       "    border: 2px solid var(--fill-color);\n",
       "    border-color: transparent;\n",
       "    border-bottom-color: var(--fill-color);\n",
       "    animation:\n",
       "      spin 1s steps(1) infinite;\n",
       "  }\n",
       "\n",
       "  @keyframes spin {\n",
       "    0% {\n",
       "      border-color: transparent;\n",
       "      border-bottom-color: var(--fill-color);\n",
       "      border-left-color: var(--fill-color);\n",
       "    }\n",
       "    20% {\n",
       "      border-color: transparent;\n",
       "      border-left-color: var(--fill-color);\n",
       "      border-top-color: var(--fill-color);\n",
       "    }\n",
       "    30% {\n",
       "      border-color: transparent;\n",
       "      border-left-color: var(--fill-color);\n",
       "      border-top-color: var(--fill-color);\n",
       "      border-right-color: var(--fill-color);\n",
       "    }\n",
       "    40% {\n",
       "      border-color: transparent;\n",
       "      border-right-color: var(--fill-color);\n",
       "      border-top-color: var(--fill-color);\n",
       "    }\n",
       "    60% {\n",
       "      border-color: transparent;\n",
       "      border-right-color: var(--fill-color);\n",
       "    }\n",
       "    80% {\n",
       "      border-color: transparent;\n",
       "      border-right-color: var(--fill-color);\n",
       "      border-bottom-color: var(--fill-color);\n",
       "    }\n",
       "    90% {\n",
       "      border-color: transparent;\n",
       "      border-bottom-color: var(--fill-color);\n",
       "    }\n",
       "  }\n",
       "</style>\n",
       "\n",
       "  <script>\n",
       "    async function quickchart(key) {\n",
       "      const quickchartButtonEl =\n",
       "        document.querySelector('#' + key + ' button');\n",
       "      quickchartButtonEl.disabled = true;  // To prevent multiple clicks.\n",
       "      quickchartButtonEl.classList.add('colab-df-spinner');\n",
       "      try {\n",
       "        const charts = await google.colab.kernel.invokeFunction(\n",
       "            'suggestCharts', [key], {});\n",
       "      } catch (error) {\n",
       "        console.error('Error during call to suggestCharts:', error);\n",
       "      }\n",
       "      quickchartButtonEl.classList.remove('colab-df-spinner');\n",
       "      quickchartButtonEl.classList.add('colab-df-quickchart-complete');\n",
       "    }\n",
       "    (() => {\n",
       "      let quickchartButtonEl =\n",
       "        document.querySelector('#df-f998c56e-e9e7-4595-8965-3cbb81d9b285 button');\n",
       "      quickchartButtonEl.style.display =\n",
       "        google.colab.kernel.accessAllowed ? 'block' : 'none';\n",
       "    })();\n",
       "  </script>\n",
       "</div>\n",
       "\n",
       "    </div>\n",
       "  </div>\n"
      ],
      "text/plain": [
       "   index                                         email_hash  orgyear      ctc  \\\n",
       "0      0  6de0a4417d18ab14334c3f43397fc13b30c35149d70c05...     2016  1100000   \n",
       "1      1  b0aaf1ac138b53cb6e039ba2c3d6604a250d02d5145c10...     2018   449999   \n",
       "2      2  4860c670bcd48fb96c02a4b0ae3608ae6fdd98176112e9...     2015  2000000   \n",
       "3      3  effdede7a2e7c2af664c8a31d9346385016128d66bbc58...     2017   700000   \n",
       "4      4  6ff54e709262f55cb999a1c1db8436cb2055d8f79ab520...     2017  1400000   \n",
       "\n",
       "         job_position  ctc_updated_year       company_hash_cleaned  \\\n",
       "0               Other              2020             atrgxnnt xzaxv   \n",
       "1  FullStack Engineer              2019  qtrxvzwt xzegwgbb rxbxnta   \n",
       "2    Backend Engineer              2020              ojzwnvwnxw vx   \n",
       "3    Backend Engineer              2019                  ngpgutaxv   \n",
       "4  FullStack Engineer              2019                 qxen sqghu   \n",
       "\n",
       "   Years_of_Experience  \n",
       "0                    8  \n",
       "1                    6  \n",
       "2                    9  \n",
       "3                    7  \n",
       "4                    7  "
      ]
     },
     "execution_count": 35,
     "metadata": {},
     "output_type": "execute_result"
    }
   ],
   "source": [
    "df_cleaned.head()"
   ]
  },
  {
   "cell_type": "code",
   "execution_count": 36,
   "id": "TDgCW0V20Prm",
   "metadata": {
    "id": "TDgCW0V20Prm"
   },
   "outputs": [],
   "source": [
    "from google.colab import files"
   ]
  },
  {
   "cell_type": "code",
   "execution_count": 37,
   "id": "yq_oCr8j0P5D",
   "metadata": {
    "id": "yq_oCr8j0P5D"
   },
   "outputs": [],
   "source": [
    "# # Export the cleaned DataFrame to Excel\n",
    "# df_cleaned.to_excel('scaler_clustering_pre_pro_01.xlsx', index=False)"
   ]
  },
  {
   "cell_type": "code",
   "execution_count": 38,
   "id": "JZUPcC4u0uyJ",
   "metadata": {
    "id": "JZUPcC4u0uyJ"
   },
   "outputs": [],
   "source": [
    "# # Download the file\n",
    "# files.download('scaler_clustering_pre_pro_01.xlsx')"
   ]
  },
  {
   "cell_type": "code",
   "execution_count": 39,
   "id": "a9fcb9b7-33c1-4878-b59d-905f8ed6ff08",
   "metadata": {
    "id": "a9fcb9b7-33c1-4878-b59d-905f8ed6ff08"
   },
   "outputs": [],
   "source": [
    "# Five-point summary of CTC\n",
    "grouped = df_cleaned.groupby(['company_hash_cleaned', 'job_position', 'Years_of_Experience'])['ctc'].agg(['mean', 'median', 'max', 'min', 'count'])\n",
    "\n",
    "# Merge it back to the original dataframe\n",
    "df_cleaned = df_cleaned.merge(grouped, how='left', on=['company_hash_cleaned', 'job_position', 'Years_of_Experience'])\n",
    "\n",
    "# Create flags for designation, class, and tier\n",
    "df_cleaned['Designation'] = np.where(df_cleaned['ctc'] > df_cleaned['mean'], 1, 0)\n",
    "df_cleaned['Class'] = pd.qcut(df_cleaned['ctc'], 3, labels=[3, 2, 1])\n",
    "df_cleaned['Tier'] = pd.qcut(df_cleaned['ctc'], 3, labels=[3, 2, 1])"
   ]
  },
  {
   "cell_type": "code",
   "execution_count": 40,
   "id": "_SV7ZlihXn8i",
   "metadata": {
    "id": "_SV7ZlihXn8i"
   },
   "outputs": [],
   "source": [
    "# Export the cleaned DataFrame to Excel\n",
    "df_cleaned.to_excel('scaler_clustering_pre_pro_02.xlsx', index=False)"
   ]
  },
  {
   "cell_type": "code",
   "execution_count": 41,
   "id": "oy98Pj78XuJL",
   "metadata": {
    "colab": {
     "base_uri": "https://localhost:8080/",
     "height": 17
    },
    "id": "oy98Pj78XuJL",
    "outputId": "6465abaf-489b-4fc7-d231-61526f4a4bea"
   },
   "outputs": [
    {
     "data": {
      "application/javascript": [
       "\n",
       "    async function download(id, filename, size) {\n",
       "      if (!google.colab.kernel.accessAllowed) {\n",
       "        return;\n",
       "      }\n",
       "      const div = document.createElement('div');\n",
       "      const label = document.createElement('label');\n",
       "      label.textContent = `Downloading \"${filename}\": `;\n",
       "      div.appendChild(label);\n",
       "      const progress = document.createElement('progress');\n",
       "      progress.max = size;\n",
       "      div.appendChild(progress);\n",
       "      document.body.appendChild(div);\n",
       "\n",
       "      const buffers = [];\n",
       "      let downloaded = 0;\n",
       "\n",
       "      const channel = await google.colab.kernel.comms.open(id);\n",
       "      // Send a message to notify the kernel that we're ready.\n",
       "      channel.send({})\n",
       "\n",
       "      for await (const message of channel.messages) {\n",
       "        // Send a message to notify the kernel that we're ready.\n",
       "        channel.send({})\n",
       "        if (message.buffers) {\n",
       "          for (const buffer of message.buffers) {\n",
       "            buffers.push(buffer);\n",
       "            downloaded += buffer.byteLength;\n",
       "            progress.value = downloaded;\n",
       "          }\n",
       "        }\n",
       "      }\n",
       "      const blob = new Blob(buffers, {type: 'application/binary'});\n",
       "      const a = document.createElement('a');\n",
       "      a.href = window.URL.createObjectURL(blob);\n",
       "      a.download = filename;\n",
       "      div.appendChild(a);\n",
       "      a.click();\n",
       "      div.remove();\n",
       "    }\n",
       "  "
      ],
      "text/plain": [
       "<IPython.core.display.Javascript object>"
      ]
     },
     "metadata": {},
     "output_type": "display_data"
    },
    {
     "data": {
      "application/javascript": [
       "download(\"download_0fcb2a23-d055-4be3-a64f-b8651fbee4fb\", \"scaler_clustering_pre_pro_02.xlsx\", 25696078)"
      ],
      "text/plain": [
       "<IPython.core.display.Javascript object>"
      ]
     },
     "metadata": {},
     "output_type": "display_data"
    }
   ],
   "source": [
    "# Download the file\n",
    "files.download('scaler_clustering_pre_pro_02.xlsx')"
   ]
  },
  {
   "cell_type": "code",
   "execution_count": null,
   "id": "ERo83t381Zxe",
   "metadata": {
    "id": "ERo83t381Zxe"
   },
   "outputs": [],
   "source": [
    "df1=df_cleaned.copy()  # used for downsizing for hierarchical clustering at later steps"
   ]
  },
  {
   "cell_type": "code",
   "execution_count": null,
   "id": "b6bdf2ac-3840-425c-896f-3e552e004b74",
   "metadata": {
    "colab": {
     "base_uri": "https://localhost:8080/",
     "height": 295
    },
    "id": "b6bdf2ac-3840-425c-896f-3e552e004b74",
    "outputId": "b597d0e6-316c-4342-8a54-da2f5522c0bb"
   },
   "outputs": [
    {
     "data": {
      "application/vnd.google.colaboratory.intrinsic+json": {
       "type": "dataframe",
       "variable_name": "df_cleaned"
      },
      "text/html": [
       "\n",
       "  <div id=\"df-c13d496c-a9e6-42c6-a88d-bf244ca3aee2\" class=\"colab-df-container\">\n",
       "    <div>\n",
       "<style scoped>\n",
       "    .dataframe tbody tr th:only-of-type {\n",
       "        vertical-align: middle;\n",
       "    }\n",
       "\n",
       "    .dataframe tbody tr th {\n",
       "        vertical-align: top;\n",
       "    }\n",
       "\n",
       "    .dataframe thead th {\n",
       "        text-align: right;\n",
       "    }\n",
       "</style>\n",
       "<table border=\"1\" class=\"dataframe\">\n",
       "  <thead>\n",
       "    <tr style=\"text-align: right;\">\n",
       "      <th></th>\n",
       "      <th>index</th>\n",
       "      <th>email_hash</th>\n",
       "      <th>orgyear</th>\n",
       "      <th>ctc</th>\n",
       "      <th>job_position</th>\n",
       "      <th>ctc_updated_year</th>\n",
       "      <th>company_hash_cleaned</th>\n",
       "      <th>Years_of_Experience</th>\n",
       "      <th>mean</th>\n",
       "      <th>median</th>\n",
       "      <th>max</th>\n",
       "      <th>min</th>\n",
       "      <th>count</th>\n",
       "      <th>Designation</th>\n",
       "      <th>Class</th>\n",
       "      <th>Tier</th>\n",
       "    </tr>\n",
       "  </thead>\n",
       "  <tbody>\n",
       "    <tr>\n",
       "      <th>0</th>\n",
       "      <td>0</td>\n",
       "      <td>6de0a4417d18ab14334c3f43397fc13b30c35149d70c05...</td>\n",
       "      <td>2016</td>\n",
       "      <td>1100000</td>\n",
       "      <td>Other</td>\n",
       "      <td>2020</td>\n",
       "      <td>atrgxnnt xzaxv</td>\n",
       "      <td>8</td>\n",
       "      <td>1.100000e+06</td>\n",
       "      <td>1100000.0</td>\n",
       "      <td>1100000</td>\n",
       "      <td>1100000</td>\n",
       "      <td>1</td>\n",
       "      <td>0</td>\n",
       "      <td>2</td>\n",
       "      <td>2</td>\n",
       "    </tr>\n",
       "    <tr>\n",
       "      <th>1</th>\n",
       "      <td>1</td>\n",
       "      <td>b0aaf1ac138b53cb6e039ba2c3d6604a250d02d5145c10...</td>\n",
       "      <td>2018</td>\n",
       "      <td>449999</td>\n",
       "      <td>FullStack Engineer</td>\n",
       "      <td>2019</td>\n",
       "      <td>qtrxvzwt xzegwgbb rxbxnta</td>\n",
       "      <td>6</td>\n",
       "      <td>7.742856e+05</td>\n",
       "      <td>750000.0</td>\n",
       "      <td>1200000</td>\n",
       "      <td>449999</td>\n",
       "      <td>7</td>\n",
       "      <td>0</td>\n",
       "      <td>3</td>\n",
       "      <td>3</td>\n",
       "    </tr>\n",
       "    <tr>\n",
       "      <th>2</th>\n",
       "      <td>2</td>\n",
       "      <td>4860c670bcd48fb96c02a4b0ae3608ae6fdd98176112e9...</td>\n",
       "      <td>2015</td>\n",
       "      <td>2000000</td>\n",
       "      <td>Backend Engineer</td>\n",
       "      <td>2020</td>\n",
       "      <td>ojzwnvwnxw vx</td>\n",
       "      <td>9</td>\n",
       "      <td>2.000000e+06</td>\n",
       "      <td>2000000.0</td>\n",
       "      <td>2000000</td>\n",
       "      <td>2000000</td>\n",
       "      <td>1</td>\n",
       "      <td>0</td>\n",
       "      <td>1</td>\n",
       "      <td>1</td>\n",
       "    </tr>\n",
       "    <tr>\n",
       "      <th>3</th>\n",
       "      <td>3</td>\n",
       "      <td>effdede7a2e7c2af664c8a31d9346385016128d66bbc58...</td>\n",
       "      <td>2017</td>\n",
       "      <td>700000</td>\n",
       "      <td>Backend Engineer</td>\n",
       "      <td>2019</td>\n",
       "      <td>ngpgutaxv</td>\n",
       "      <td>7</td>\n",
       "      <td>1.436154e+06</td>\n",
       "      <td>1210000.0</td>\n",
       "      <td>3160000</td>\n",
       "      <td>700000</td>\n",
       "      <td>13</td>\n",
       "      <td>0</td>\n",
       "      <td>2</td>\n",
       "      <td>2</td>\n",
       "    </tr>\n",
       "    <tr>\n",
       "      <th>4</th>\n",
       "      <td>4</td>\n",
       "      <td>6ff54e709262f55cb999a1c1db8436cb2055d8f79ab520...</td>\n",
       "      <td>2017</td>\n",
       "      <td>1400000</td>\n",
       "      <td>FullStack Engineer</td>\n",
       "      <td>2019</td>\n",
       "      <td>qxen sqghu</td>\n",
       "      <td>7</td>\n",
       "      <td>1.400000e+06</td>\n",
       "      <td>1400000.0</td>\n",
       "      <td>1400000</td>\n",
       "      <td>1400000</td>\n",
       "      <td>1</td>\n",
       "      <td>0</td>\n",
       "      <td>2</td>\n",
       "      <td>2</td>\n",
       "    </tr>\n",
       "  </tbody>\n",
       "</table>\n",
       "</div>\n",
       "    <div class=\"colab-df-buttons\">\n",
       "\n",
       "  <div class=\"colab-df-container\">\n",
       "    <button class=\"colab-df-convert\" onclick=\"convertToInteractive('df-c13d496c-a9e6-42c6-a88d-bf244ca3aee2')\"\n",
       "            title=\"Convert this dataframe to an interactive table.\"\n",
       "            style=\"display:none;\">\n",
       "\n",
       "  <svg xmlns=\"http://www.w3.org/2000/svg\" height=\"24px\" viewBox=\"0 -960 960 960\">\n",
       "    <path d=\"M120-120v-720h720v720H120Zm60-500h600v-160H180v160Zm220 220h160v-160H400v160Zm0 220h160v-160H400v160ZM180-400h160v-160H180v160Zm440 0h160v-160H620v160ZM180-180h160v-160H180v160Zm440 0h160v-160H620v160Z\"/>\n",
       "  </svg>\n",
       "    </button>\n",
       "\n",
       "  <style>\n",
       "    .colab-df-container {\n",
       "      display:flex;\n",
       "      gap: 12px;\n",
       "    }\n",
       "\n",
       "    .colab-df-convert {\n",
       "      background-color: #E8F0FE;\n",
       "      border: none;\n",
       "      border-radius: 50%;\n",
       "      cursor: pointer;\n",
       "      display: none;\n",
       "      fill: #1967D2;\n",
       "      height: 32px;\n",
       "      padding: 0 0 0 0;\n",
       "      width: 32px;\n",
       "    }\n",
       "\n",
       "    .colab-df-convert:hover {\n",
       "      background-color: #E2EBFA;\n",
       "      box-shadow: 0px 1px 2px rgba(60, 64, 67, 0.3), 0px 1px 3px 1px rgba(60, 64, 67, 0.15);\n",
       "      fill: #174EA6;\n",
       "    }\n",
       "\n",
       "    .colab-df-buttons div {\n",
       "      margin-bottom: 4px;\n",
       "    }\n",
       "\n",
       "    [theme=dark] .colab-df-convert {\n",
       "      background-color: #3B4455;\n",
       "      fill: #D2E3FC;\n",
       "    }\n",
       "\n",
       "    [theme=dark] .colab-df-convert:hover {\n",
       "      background-color: #434B5C;\n",
       "      box-shadow: 0px 1px 3px 1px rgba(0, 0, 0, 0.15);\n",
       "      filter: drop-shadow(0px 1px 2px rgba(0, 0, 0, 0.3));\n",
       "      fill: #FFFFFF;\n",
       "    }\n",
       "  </style>\n",
       "\n",
       "    <script>\n",
       "      const buttonEl =\n",
       "        document.querySelector('#df-c13d496c-a9e6-42c6-a88d-bf244ca3aee2 button.colab-df-convert');\n",
       "      buttonEl.style.display =\n",
       "        google.colab.kernel.accessAllowed ? 'block' : 'none';\n",
       "\n",
       "      async function convertToInteractive(key) {\n",
       "        const element = document.querySelector('#df-c13d496c-a9e6-42c6-a88d-bf244ca3aee2');\n",
       "        const dataTable =\n",
       "          await google.colab.kernel.invokeFunction('convertToInteractive',\n",
       "                                                    [key], {});\n",
       "        if (!dataTable) return;\n",
       "\n",
       "        const docLinkHtml = 'Like what you see? Visit the ' +\n",
       "          '<a target=\"_blank\" href=https://colab.research.google.com/notebooks/data_table.ipynb>data table notebook</a>'\n",
       "          + ' to learn more about interactive tables.';\n",
       "        element.innerHTML = '';\n",
       "        dataTable['output_type'] = 'display_data';\n",
       "        await google.colab.output.renderOutput(dataTable, element);\n",
       "        const docLink = document.createElement('div');\n",
       "        docLink.innerHTML = docLinkHtml;\n",
       "        element.appendChild(docLink);\n",
       "      }\n",
       "    </script>\n",
       "  </div>\n",
       "\n",
       "\n",
       "<div id=\"df-e09115f1-2cc6-40d0-9e91-28310451891f\">\n",
       "  <button class=\"colab-df-quickchart\" onclick=\"quickchart('df-e09115f1-2cc6-40d0-9e91-28310451891f')\"\n",
       "            title=\"Suggest charts\"\n",
       "            style=\"display:none;\">\n",
       "\n",
       "<svg xmlns=\"http://www.w3.org/2000/svg\" height=\"24px\"viewBox=\"0 0 24 24\"\n",
       "     width=\"24px\">\n",
       "    <g>\n",
       "        <path d=\"M19 3H5c-1.1 0-2 .9-2 2v14c0 1.1.9 2 2 2h14c1.1 0 2-.9 2-2V5c0-1.1-.9-2-2-2zM9 17H7v-7h2v7zm4 0h-2V7h2v10zm4 0h-2v-4h2v4z\"/>\n",
       "    </g>\n",
       "</svg>\n",
       "  </button>\n",
       "\n",
       "<style>\n",
       "  .colab-df-quickchart {\n",
       "      --bg-color: #E8F0FE;\n",
       "      --fill-color: #1967D2;\n",
       "      --hover-bg-color: #E2EBFA;\n",
       "      --hover-fill-color: #174EA6;\n",
       "      --disabled-fill-color: #AAA;\n",
       "      --disabled-bg-color: #DDD;\n",
       "  }\n",
       "\n",
       "  [theme=dark] .colab-df-quickchart {\n",
       "      --bg-color: #3B4455;\n",
       "      --fill-color: #D2E3FC;\n",
       "      --hover-bg-color: #434B5C;\n",
       "      --hover-fill-color: #FFFFFF;\n",
       "      --disabled-bg-color: #3B4455;\n",
       "      --disabled-fill-color: #666;\n",
       "  }\n",
       "\n",
       "  .colab-df-quickchart {\n",
       "    background-color: var(--bg-color);\n",
       "    border: none;\n",
       "    border-radius: 50%;\n",
       "    cursor: pointer;\n",
       "    display: none;\n",
       "    fill: var(--fill-color);\n",
       "    height: 32px;\n",
       "    padding: 0;\n",
       "    width: 32px;\n",
       "  }\n",
       "\n",
       "  .colab-df-quickchart:hover {\n",
       "    background-color: var(--hover-bg-color);\n",
       "    box-shadow: 0 1px 2px rgba(60, 64, 67, 0.3), 0 1px 3px 1px rgba(60, 64, 67, 0.15);\n",
       "    fill: var(--button-hover-fill-color);\n",
       "  }\n",
       "\n",
       "  .colab-df-quickchart-complete:disabled,\n",
       "  .colab-df-quickchart-complete:disabled:hover {\n",
       "    background-color: var(--disabled-bg-color);\n",
       "    fill: var(--disabled-fill-color);\n",
       "    box-shadow: none;\n",
       "  }\n",
       "\n",
       "  .colab-df-spinner {\n",
       "    border: 2px solid var(--fill-color);\n",
       "    border-color: transparent;\n",
       "    border-bottom-color: var(--fill-color);\n",
       "    animation:\n",
       "      spin 1s steps(1) infinite;\n",
       "  }\n",
       "\n",
       "  @keyframes spin {\n",
       "    0% {\n",
       "      border-color: transparent;\n",
       "      border-bottom-color: var(--fill-color);\n",
       "      border-left-color: var(--fill-color);\n",
       "    }\n",
       "    20% {\n",
       "      border-color: transparent;\n",
       "      border-left-color: var(--fill-color);\n",
       "      border-top-color: var(--fill-color);\n",
       "    }\n",
       "    30% {\n",
       "      border-color: transparent;\n",
       "      border-left-color: var(--fill-color);\n",
       "      border-top-color: var(--fill-color);\n",
       "      border-right-color: var(--fill-color);\n",
       "    }\n",
       "    40% {\n",
       "      border-color: transparent;\n",
       "      border-right-color: var(--fill-color);\n",
       "      border-top-color: var(--fill-color);\n",
       "    }\n",
       "    60% {\n",
       "      border-color: transparent;\n",
       "      border-right-color: var(--fill-color);\n",
       "    }\n",
       "    80% {\n",
       "      border-color: transparent;\n",
       "      border-right-color: var(--fill-color);\n",
       "      border-bottom-color: var(--fill-color);\n",
       "    }\n",
       "    90% {\n",
       "      border-color: transparent;\n",
       "      border-bottom-color: var(--fill-color);\n",
       "    }\n",
       "  }\n",
       "</style>\n",
       "\n",
       "  <script>\n",
       "    async function quickchart(key) {\n",
       "      const quickchartButtonEl =\n",
       "        document.querySelector('#' + key + ' button');\n",
       "      quickchartButtonEl.disabled = true;  // To prevent multiple clicks.\n",
       "      quickchartButtonEl.classList.add('colab-df-spinner');\n",
       "      try {\n",
       "        const charts = await google.colab.kernel.invokeFunction(\n",
       "            'suggestCharts', [key], {});\n",
       "      } catch (error) {\n",
       "        console.error('Error during call to suggestCharts:', error);\n",
       "      }\n",
       "      quickchartButtonEl.classList.remove('colab-df-spinner');\n",
       "      quickchartButtonEl.classList.add('colab-df-quickchart-complete');\n",
       "    }\n",
       "    (() => {\n",
       "      let quickchartButtonEl =\n",
       "        document.querySelector('#df-e09115f1-2cc6-40d0-9e91-28310451891f button');\n",
       "      quickchartButtonEl.style.display =\n",
       "        google.colab.kernel.accessAllowed ? 'block' : 'none';\n",
       "    })();\n",
       "  </script>\n",
       "</div>\n",
       "\n",
       "    </div>\n",
       "  </div>\n"
      ],
      "text/plain": [
       "   index                                         email_hash  orgyear      ctc  \\\n",
       "0      0  6de0a4417d18ab14334c3f43397fc13b30c35149d70c05...     2016  1100000   \n",
       "1      1  b0aaf1ac138b53cb6e039ba2c3d6604a250d02d5145c10...     2018   449999   \n",
       "2      2  4860c670bcd48fb96c02a4b0ae3608ae6fdd98176112e9...     2015  2000000   \n",
       "3      3  effdede7a2e7c2af664c8a31d9346385016128d66bbc58...     2017   700000   \n",
       "4      4  6ff54e709262f55cb999a1c1db8436cb2055d8f79ab520...     2017  1400000   \n",
       "\n",
       "         job_position  ctc_updated_year       company_hash_cleaned  \\\n",
       "0               Other              2020             atrgxnnt xzaxv   \n",
       "1  FullStack Engineer              2019  qtrxvzwt xzegwgbb rxbxnta   \n",
       "2    Backend Engineer              2020              ojzwnvwnxw vx   \n",
       "3    Backend Engineer              2019                  ngpgutaxv   \n",
       "4  FullStack Engineer              2019                 qxen sqghu   \n",
       "\n",
       "   Years_of_Experience          mean     median      max      min  count  \\\n",
       "0                    8  1.100000e+06  1100000.0  1100000  1100000      1   \n",
       "1                    6  7.742856e+05   750000.0  1200000   449999      7   \n",
       "2                    9  2.000000e+06  2000000.0  2000000  2000000      1   \n",
       "3                    7  1.436154e+06  1210000.0  3160000   700000     13   \n",
       "4                    7  1.400000e+06  1400000.0  1400000  1400000      1   \n",
       "\n",
       "   Designation Class Tier  \n",
       "0            0     2    2  \n",
       "1            0     3    3  \n",
       "2            0     1    1  \n",
       "3            0     2    2  \n",
       "4            0     2    2  "
      ]
     },
     "execution_count": 39,
     "metadata": {},
     "output_type": "execute_result"
    }
   ],
   "source": [
    "df_cleaned.head()"
   ]
  },
  {
   "cell_type": "code",
   "execution_count": null,
   "id": "HP1LM62ExwqQ",
   "metadata": {
    "id": "HP1LM62ExwqQ"
   },
   "outputs": [],
   "source": []
  },
  {
   "cell_type": "code",
   "execution_count": null,
   "id": "4dc5c4a0-00b2-47f6-b002-b5d6ab34aa11",
   "metadata": {
    "id": "4dc5c4a0-00b2-47f6-b002-b5d6ab34aa11"
   },
   "outputs": [],
   "source": [
    "# Standardize the numeric columns for clustering\n",
    "scaler = StandardScaler()\n",
    "df_scaled = scaler.fit_transform(df_cleaned[['ctc', 'Years_of_Experience']])"
   ]
  },
  {
   "cell_type": "code",
   "execution_count": null,
   "id": "d93ff9f5-c24d-4f21-b32e-d1c294fc6a73",
   "metadata": {
    "colab": {
     "base_uri": "https://localhost:8080/",
     "height": 472
    },
    "id": "d93ff9f5-c24d-4f21-b32e-d1c294fc6a73",
    "outputId": "261b1c57-079e-4256-af0e-5e32f81ff67f"
   },
   "outputs": [
    {
     "data": {
      "image/png": "[encoded data removed]",
      "text/plain": [
       "<Figure size 640x480 with 1 Axes>"
      ]
     },
     "metadata": {},
     "output_type": "display_data"
    }
   ],
   "source": [
    "# Elbow method to find the optimal number of clusters\n",
    "sse = []\n",
    "for k in range(1, 11):\n",
    "    kmeans = KMeans(n_clusters=k)\n",
    "    kmeans.fit(df_scaled)\n",
    "    sse.append(kmeans.inertia_)\n",
    "\n",
    "# Plot the Elbow graph\n",
    "plt.plot(range(1, 11), sse)\n",
    "plt.title('Elbow Method')\n",
    "plt.xlabel('Number of clusters')\n",
    "plt.ylabel('SSE')\n",
    "plt.show()"
   ]
  },
  {
   "cell_type": "code",
   "execution_count": null,
   "id": "c7d09615-5085-449e-9e33-588f5ff3923e",
   "metadata": {
    "colab": {
     "base_uri": "https://localhost:8080/",
     "height": 465
    },
    "id": "c7d09615-5085-449e-9e33-588f5ff3923e",
    "outputId": "5cc8f945-682b-4335-eeb7-71356d92f21b"
   },
   "outputs": [
    {
     "data": {
      "image/png": "[encoded data removed]",
      "text/plain": [
       "<Figure size 640x480 with 1 Axes>"
      ]
     },
     "metadata": {},
     "output_type": "display_data"
    }
   ],
   "source": [
    "# Applying KMeans\n",
    "kmeans = KMeans(n_clusters=3)\n",
    "df_cleaned['Cluster'] = kmeans.fit_predict(df_scaled)\n",
    "\n",
    "# Visualize the clusters\n",
    "sns.scatterplot(x='Years_of_Experience', y='ctc', hue='Cluster', data=df_cleaned)\n",
    "plt.show()"
   ]
  },
  {
   "cell_type": "code",
   "execution_count": null,
   "id": "EpiZEDj_OSyI",
   "metadata": {
    "colab": {
     "base_uri": "https://localhost:8080/",
     "height": 465
    },
    "id": "EpiZEDj_OSyI",
    "outputId": "bcba76d0-a2f1-42b4-b166-8d245d4cd16c"
   },
   "outputs": [
    {
     "data": {
      "image/png": "[encoded data removed]",
      "text/plain": [
       "<Figure size 640x480 with 1 Axes>"
      ]
     },
     "metadata": {},
     "output_type": "display_data"
    }
   ],
   "source": [
    "# Applying KMeans\n",
    "kmeans = KMeans(n_clusters=2)\n",
    "df_cleaned['Cluster'] = kmeans.fit_predict(df_scaled)\n",
    "\n",
    "# Visualize the clusters\n",
    "sns.scatterplot(x='Years_of_Experience', y='ctc', hue='Cluster', data=df_cleaned)\n",
    "plt.show()"
   ]
  },
  {
   "cell_type": "code",
   "execution_count": null,
   "id": "hjsbNo9mPCzr",
   "metadata": {
    "colab": {
     "base_uri": "https://localhost:8080/",
     "height": 465
    },
    "id": "hjsbNo9mPCzr",
    "outputId": "a1721889-5fc5-4d4a-c543-18c74dce39fe"
   },
   "outputs": [
    {
     "data": {
      "image/png": "[encoded data removed]",
      "text/plain": [
       "<Figure size 640x480 with 1 Axes>"
      ]
     },
     "metadata": {},
     "output_type": "display_data"
    }
   ],
   "source": [
    "# Applying KMeans\n",
    "kmeans = KMeans(n_clusters=4)\n",
    "df_cleaned['Cluster'] = kmeans.fit_predict(df_scaled)\n",
    "\n",
    "# Visualize the clusters\n",
    "sns.scatterplot(x='Years_of_Experience', y='ctc', hue='Cluster', data=df_cleaned)\n",
    "plt.show()"
   ]
  },
  {
   "cell_type": "code",
   "execution_count": null,
   "id": "DIH492g3RbEE",
   "metadata": {
    "colab": {
     "base_uri": "https://localhost:8080/",
     "height": 465
    },
    "id": "DIH492g3RbEE",
    "outputId": "d18c0910-1aac-49a1-a04e-e2ed18f9c740"
   },
   "outputs": [
    {
     "data": {
      "image/png": "[encoded data removed]",
      "text/plain": [
       "<Figure size 640x480 with 1 Axes>"
      ]
     },
     "metadata": {},
     "output_type": "display_data"
    }
   ],
   "source": [
    "# Applying KMeans\n",
    "kmeans = KMeans(n_clusters=5)\n",
    "df_cleaned['Cluster'] = kmeans.fit_predict(df_scaled)\n",
    "\n",
    "# Visualize the clusters\n",
    "sns.scatterplot(x='Years_of_Experience', y='ctc', hue='Cluster', data=df_cleaned)\n",
    "plt.show()"
   ]
  },
  {
   "cell_type": "code",
   "execution_count": null,
   "id": "X1nfDvvTRwxr",
   "metadata": {
    "colab": {
     "base_uri": "https://localhost:8080/",
     "height": 465
    },
    "id": "X1nfDvvTRwxr",
    "outputId": "09cb3021-85a9-4238-89dd-07ee6346c223"
   },
   "outputs": [
    {
     "data": {
      "image/png": "[encoded data removed]",
      "text/plain": [
       "<Figure size 640x480 with 1 Axes>"
      ]
     },
     "metadata": {},
     "output_type": "display_data"
    }
   ],
   "source": [
    "# Applying KMeans\n",
    "kmeans = KMeans(n_clusters=6)\n",
    "df_cleaned['Cluster'] = kmeans.fit_predict(df_scaled)\n",
    "\n",
    "# Visualize the clusters\n",
    "sns.scatterplot(x='Years_of_Experience', y='ctc', hue='Cluster', data=df_cleaned)\n",
    "plt.show()"
   ]
  },
  {
   "cell_type": "code",
   "execution_count": null,
   "id": "9-4ikXg6KkB_",
   "metadata": {
    "colab": {
     "base_uri": "https://localhost:8080/"
    },
    "id": "9-4ikXg6KkB_",
    "outputId": "cbd8a100-44f2-4665-9038-bc0ece9c2d90"
   },
   "outputs": [
    {
     "name": "stdout",
     "output_type": "stream",
     "text": [
      "count    205665.000000\n",
      "mean       2015.117584\n",
      "std           4.228364\n",
      "min        1976.000000\n",
      "25%        2013.000000\n",
      "50%        2016.000000\n",
      "75%        2018.000000\n",
      "max        2024.000000\n",
      "Name: orgyear, dtype: float64\n"
     ]
    }
   ],
   "source": [
    "# Check the summary statistics of orgyear\n",
    "print(df_cleaned['orgyear'].describe())"
   ]
  },
  {
   "cell_type": "code",
   "execution_count": null,
   "id": "TaPqjOvxKkQz",
   "metadata": {
    "colab": {
     "base_uri": "https://localhost:8080/"
    },
    "id": "TaPqjOvxKkQz",
    "outputId": "598e09e8-5570-4ba7-d7e1-c3c24efc9ce9"
   },
   "outputs": [
    {
     "name": "stdout",
     "output_type": "stream",
     "text": [
      "orgyear\n",
      "1976        1\n",
      "1977        1\n",
      "1979        1\n",
      "1981        1\n",
      "1982        4\n",
      "1984        3\n",
      "1985        5\n",
      "1986        8\n",
      "1987        6\n",
      "1988       10\n",
      "1989       22\n",
      "1990       38\n",
      "1991       79\n",
      "1992       47\n",
      "1993       74\n",
      "1994       65\n",
      "1995       94\n",
      "1996      134\n",
      "1997      234\n",
      "1998      279\n",
      "1999      340\n",
      "2000      495\n",
      "2001      713\n",
      "2002      685\n",
      "2003     1018\n",
      "2004     1455\n",
      "2005     1873\n",
      "2006     2075\n",
      "2007     2257\n",
      "2008     2728\n",
      "2009     3777\n",
      "2010     5751\n",
      "2011     7970\n",
      "2012    10493\n",
      "2013    12351\n",
      "2014    16696\n",
      "2015    20610\n",
      "2016    23043\n",
      "2017    23239\n",
      "2018    25256\n",
      "2019    23427\n",
      "2020    13431\n",
      "2021     3670\n",
      "2022      911\n",
      "2023      252\n",
      "2024       43\n",
      "Name: count, dtype: int64\n"
     ]
    }
   ],
   "source": [
    "# Check for any unusual values (e.g., future years or very old years)\n",
    "print(df_cleaned['orgyear'].value_counts().sort_index())"
   ]
  },
  {
   "cell_type": "code",
   "execution_count": null,
   "id": "6bWMp0keLFMj",
   "metadata": {
    "colab": {
     "base_uri": "https://localhost:8080/"
    },
    "id": "6bWMp0keLFMj",
    "outputId": "1f5e68e9-5c5d-4122-acb0-4bc1f72ddbf3"
   },
   "outputs": [
    {
     "name": "stdout",
     "output_type": "stream",
     "text": [
      "count    205665.000000\n",
      "mean          8.882416\n",
      "std           4.228364\n",
      "min           0.000000\n",
      "25%           6.000000\n",
      "50%           8.000000\n",
      "75%          11.000000\n",
      "max          48.000000\n",
      "Name: Years_of_Experience, dtype: float64\n"
     ]
    }
   ],
   "source": [
    "# Check the summary statistics of orgyear\n",
    "print(df_cleaned['Years_of_Experience'].describe())"
   ]
  },
  {
   "cell_type": "code",
   "execution_count": null,
   "id": "5UylgpZ0LFep",
   "metadata": {
    "colab": {
     "base_uri": "https://localhost:8080/"
    },
    "id": "5UylgpZ0LFep",
    "outputId": "9fe0e6a8-9fd5-4564-8927-51969fcbf62e"
   },
   "outputs": [
    {
     "name": "stdout",
     "output_type": "stream",
     "text": [
      "Years_of_Experience\n",
      "0        43\n",
      "1       252\n",
      "2       911\n",
      "3      3670\n",
      "4     13431\n",
      "5     23427\n",
      "6     25256\n",
      "7     23239\n",
      "8     23043\n",
      "9     20610\n",
      "10    16696\n",
      "11    12351\n",
      "12    10493\n",
      "13     7970\n",
      "14     5751\n",
      "15     3777\n",
      "16     2728\n",
      "17     2257\n",
      "18     2075\n",
      "19     1873\n",
      "20     1455\n",
      "21     1018\n",
      "22      685\n",
      "23      713\n",
      "24      495\n",
      "25      340\n",
      "26      279\n",
      "27      234\n",
      "28      134\n",
      "29       94\n",
      "30       65\n",
      "31       74\n",
      "32       47\n",
      "33       79\n",
      "34       38\n",
      "35       22\n",
      "36       10\n",
      "37        6\n",
      "38        8\n",
      "39        5\n",
      "40        3\n",
      "42        4\n",
      "43        1\n",
      "45        1\n",
      "47        1\n",
      "48        1\n",
      "Name: count, dtype: int64\n"
     ]
    }
   ],
   "source": [
    "# Check for any unusual values (e.g., future years or very old years)\n",
    "print(df_cleaned['Years_of_Experience'].value_counts().sort_index())"
   ]
  },
  {
   "cell_type": "code",
   "execution_count": null,
   "id": "58952cba-3f9b-4681-96da-0ef791fe920d",
   "metadata": {
    "id": "58952cba-3f9b-4681-96da-0ef791fe920d"
   },
   "outputs": [],
   "source": [
    "# # Perform hierarchical clustering\n",
    "# Z = linkage(df_scaled, 'ward')\n",
    "# dendrogram(Z)\n",
    "# plt.show()"
   ]
  },
  {
   "cell_type": "code",
   "execution_count": null,
   "id": "d632df10-78da-4ad1-aeca-4676235829b3",
   "metadata": {
    "id": "d632df10-78da-4ad1-aeca-4676235829b3"
   },
   "outputs": [],
   "source": [
    "\n"
   ]
  },
  {
   "cell_type": "code",
   "execution_count": null,
   "id": "JkMhRBYCJlIE",
   "metadata": {
    "id": "JkMhRBYCJlIE"
   },
   "outputs": [],
   "source": []
  },
  {
   "cell_type": "code",
   "execution_count": null,
   "id": "7695cd2d-9c0a-424d-9b0e-4af5dac4a7c4",
   "metadata": {
    "colab": {
     "base_uri": "https://localhost:8080/",
     "height": 203
    },
    "id": "7695cd2d-9c0a-424d-9b0e-4af5dac4a7c4",
    "outputId": "d5f136e0-8a36-4e76-9706-0ba0f257dfd8"
   },
   "outputs": [
    {
     "data": {
      "text/html": [
       "<div style=\"max-width:800px; border: 1px solid var(--colab-border-color);\"><style>\n",
       "      pre.function-repr-contents {\n",
       "        overflow-x: auto;\n",
       "        padding: 8px 12px;\n",
       "        max-height: 500px;\n",
       "      }\n",
       "\n",
       "      pre.function-repr-contents.function-repr-contents-collapsed {\n",
       "        cursor: pointer;\n",
       "        max-height: 100px;\n",
       "      }\n",
       "    </style>\n",
       "    <pre style=\"white-space: initial; background:\n",
       "         var(--colab-secondary-surface-color); padding: 8px 12px;\n",
       "         border-bottom: 1px solid var(--colab-border-color);\"><b>pandas.core.frame.DataFrame</b><br/>def __init__(data=None, index: Axes | None=None, columns: Axes | None=None, dtype: Dtype | None=None, copy: bool | None=None) -&gt; None</pre><pre class=\"function-repr-contents function-repr-contents-collapsed\" style=\"\"><a class=\"filepath\" style=\"display:none\" href=\"#\">/usr/local/lib/python3.10/dist-packages/pandas/core/frame.py</a>Two-dimensional, size-mutable, potentially heterogeneous tabular data.\n",
       "\n",
       "Data structure also contains labeled axes (rows and columns).\n",
       "Arithmetic operations align on both row and column labels. Can be\n",
       "thought of as a dict-like container for Series objects. The primary\n",
       "pandas data structure.\n",
       "\n",
       "Parameters\n",
       "----------\n",
       "data : ndarray (structured or homogeneous), Iterable, dict, or DataFrame\n",
       "    Dict can contain Series, arrays, constants, dataclass or list-like objects. If\n",
       "    data is a dict, column order follows insertion-order. If a dict contains Series\n",
       "    which have an index defined, it is aligned by its index. This alignment also\n",
       "    occurs if data is a Series or a DataFrame itself. Alignment is done on\n",
       "    Series/DataFrame inputs.\n",
       "\n",
       "    If data is a list of dicts, column order follows insertion-order.\n",
       "\n",
       "index : Index or array-like\n",
       "    Index to use for resulting frame. Will default to RangeIndex if\n",
       "    no indexing information part of input data and no index provided.\n",
       "columns : Index or array-like\n",
       "    Column labels to use for resulting frame when data does not have them,\n",
       "    defaulting to RangeIndex(0, 1, 2, ..., n). If data contains column labels,\n",
       "    will perform column selection instead.\n",
       "dtype : dtype, default None\n",
       "    Data type to force. Only a single dtype is allowed. If None, infer.\n",
       "copy : bool or None, default None\n",
       "    Copy data from inputs.\n",
       "    For dict data, the default of None behaves like ``copy=True``.  For DataFrame\n",
       "    or 2d ndarray input, the default of None behaves like ``copy=False``.\n",
       "    If data is a dict containing one or more Series (possibly of different dtypes),\n",
       "    ``copy=False`` will ensure that these inputs are not copied.\n",
       "\n",
       "    .. versionchanged:: 1.3.0\n",
       "\n",
       "See Also\n",
       "--------\n",
       "DataFrame.from_records : Constructor from tuples, also record arrays.\n",
       "DataFrame.from_dict : From dicts of Series, arrays, or dicts.\n",
       "read_csv : Read a comma-separated values (csv) file into DataFrame.\n",
       "read_table : Read general delimited file into DataFrame.\n",
       "read_clipboard : Read text from clipboard into DataFrame.\n",
       "\n",
       "Notes\n",
       "-----\n",
       "Please reference the :ref:`User Guide &lt;basics.dataframe&gt;` for more information.\n",
       "\n",
       "Examples\n",
       "--------\n",
       "Constructing DataFrame from a dictionary.\n",
       "\n",
       "&gt;&gt;&gt; d = {&#x27;col1&#x27;: [1, 2], &#x27;col2&#x27;: [3, 4]}\n",
       "&gt;&gt;&gt; df = pd.DataFrame(data=d)\n",
       "&gt;&gt;&gt; df\n",
       "   col1  col2\n",
       "0     1     3\n",
       "1     2     4\n",
       "\n",
       "Notice that the inferred dtype is int64.\n",
       "\n",
       "&gt;&gt;&gt; df.dtypes\n",
       "col1    int64\n",
       "col2    int64\n",
       "dtype: object\n",
       "\n",
       "To enforce a single dtype:\n",
       "\n",
       "&gt;&gt;&gt; df = pd.DataFrame(data=d, dtype=np.int8)\n",
       "&gt;&gt;&gt; df.dtypes\n",
       "col1    int8\n",
       "col2    int8\n",
       "dtype: object\n",
       "\n",
       "Constructing DataFrame from a dictionary including Series:\n",
       "\n",
       "&gt;&gt;&gt; d = {&#x27;col1&#x27;: [0, 1, 2, 3], &#x27;col2&#x27;: pd.Series([2, 3], index=[2, 3])}\n",
       "&gt;&gt;&gt; pd.DataFrame(data=d, index=[0, 1, 2, 3])\n",
       "   col1  col2\n",
       "0     0   NaN\n",
       "1     1   NaN\n",
       "2     2   2.0\n",
       "3     3   3.0\n",
       "\n",
       "Constructing DataFrame from numpy ndarray:\n",
       "\n",
       "&gt;&gt;&gt; df2 = pd.DataFrame(np.array([[1, 2, 3], [4, 5, 6], [7, 8, 9]]),\n",
       "...                    columns=[&#x27;a&#x27;, &#x27;b&#x27;, &#x27;c&#x27;])\n",
       "&gt;&gt;&gt; df2\n",
       "   a  b  c\n",
       "0  1  2  3\n",
       "1  4  5  6\n",
       "2  7  8  9\n",
       "\n",
       "Constructing DataFrame from a numpy ndarray that has labeled columns:\n",
       "\n",
       "&gt;&gt;&gt; data = np.array([(1, 2, 3), (4, 5, 6), (7, 8, 9)],\n",
       "...                 dtype=[(&quot;a&quot;, &quot;i4&quot;), (&quot;b&quot;, &quot;i4&quot;), (&quot;c&quot;, &quot;i4&quot;)])\n",
       "&gt;&gt;&gt; df3 = pd.DataFrame(data, columns=[&#x27;c&#x27;, &#x27;a&#x27;])\n",
       "...\n",
       "&gt;&gt;&gt; df3\n",
       "   c  a\n",
       "0  3  1\n",
       "1  6  4\n",
       "2  9  7\n",
       "\n",
       "Constructing DataFrame from dataclass:\n",
       "\n",
       "&gt;&gt;&gt; from dataclasses import make_dataclass\n",
       "&gt;&gt;&gt; Point = make_dataclass(&quot;Point&quot;, [(&quot;x&quot;, int), (&quot;y&quot;, int)])\n",
       "&gt;&gt;&gt; pd.DataFrame([Point(0, 0), Point(0, 3), Point(2, 3)])\n",
       "   x  y\n",
       "0  0  0\n",
       "1  0  3\n",
       "2  2  3\n",
       "\n",
       "Constructing DataFrame from Series/DataFrame:\n",
       "\n",
       "&gt;&gt;&gt; ser = pd.Series([1, 2, 3], index=[&quot;a&quot;, &quot;b&quot;, &quot;c&quot;])\n",
       "&gt;&gt;&gt; df = pd.DataFrame(data=ser, index=[&quot;a&quot;, &quot;c&quot;])\n",
       "&gt;&gt;&gt; df\n",
       "   0\n",
       "a  1\n",
       "c  3\n",
       "\n",
       "&gt;&gt;&gt; df1 = pd.DataFrame([1, 2, 3], index=[&quot;a&quot;, &quot;b&quot;, &quot;c&quot;], columns=[&quot;x&quot;])\n",
       "&gt;&gt;&gt; df2 = pd.DataFrame(data=df1, index=[&quot;a&quot;, &quot;c&quot;])\n",
       "&gt;&gt;&gt; df2\n",
       "   x\n",
       "a  1\n",
       "c  3</pre>\n",
       "      <script>\n",
       "      if (google.colab.kernel.accessAllowed && google.colab.files && google.colab.files.view) {\n",
       "        for (const element of document.querySelectorAll('.filepath')) {\n",
       "          element.style.display = 'block'\n",
       "          element.onclick = (event) => {\n",
       "            event.preventDefault();\n",
       "            event.stopPropagation();\n",
       "            google.colab.files.view(element.textContent, 491);\n",
       "          };\n",
       "        }\n",
       "      }\n",
       "      for (const element of document.querySelectorAll('.function-repr-contents')) {\n",
       "        element.onclick = (event) => {\n",
       "          event.preventDefault();\n",
       "          event.stopPropagation();\n",
       "          element.classList.toggle('function-repr-contents-collapsed');\n",
       "        };\n",
       "      }\n",
       "      </script>\n",
       "      </div>"
      ],
      "text/plain": [
       "pandas.core.frame.DataFrame"
      ]
     },
     "execution_count": 50,
     "metadata": {},
     "output_type": "execute_result"
    }
   ],
   "source": [
    "type(df1)"
   ]
  },
  {
   "cell_type": "code",
   "execution_count": null,
   "id": "fbf89316-8e67-41f1-8f68-e78c2a89ffba",
   "metadata": {
    "colab": {
     "base_uri": "https://localhost:8080/"
    },
    "id": "fbf89316-8e67-41f1-8f68-e78c2a89ffba",
    "outputId": "8fbc6886-f464-4e49-897a-43d9195b5336"
   },
   "outputs": [
    {
     "data": {
      "text/plain": [
       "(205665, 16)"
      ]
     },
     "execution_count": 51,
     "metadata": {},
     "output_type": "execute_result"
    }
   ],
   "source": [
    "df1.shape"
   ]
  },
  {
   "cell_type": "code",
   "execution_count": null,
   "id": "a90cd0f6-44b9-47e5-8bc1-f467db66f855",
   "metadata": {
    "id": "a90cd0f6-44b9-47e5-8bc1-f467db66f855"
   },
   "outputs": [],
   "source": [
    "# Downsample using Pandas' sample() method if df is a DataFrame\n",
    "df1_sample = df1.sample(frac=0.01, random_state=42)  # 10% sample"
   ]
  },
  {
   "cell_type": "code",
   "execution_count": null,
   "id": "902aacf0-051e-47d3-a1bd-715a93951420",
   "metadata": {
    "colab": {
     "base_uri": "https://localhost:8080/",
     "height": 313
    },
    "id": "902aacf0-051e-47d3-a1bd-715a93951420",
    "outputId": "6367b8be-815b-4249-cd9b-64d6b017f7f4"
   },
   "outputs": [
    {
     "data": {
      "application/vnd.google.colaboratory.intrinsic+json": {
       "summary": "{\n  \"name\": \"df1_sample\",\n  \"rows\": 2057,\n  \"fields\": [\n    {\n      \"column\": \"index\",\n      \"properties\": {\n        \"dtype\": \"number\",\n        \"std\": 60266,\n        \"min\": 101,\n        \"max\": 206889,\n        \"num_unique_values\": 2057,\n        \"samples\": [\n          43517,\n          178342,\n          88431\n        ],\n        \"semantic_type\": \"\",\n        \"description\": \"\"\n      }\n    },\n    {\n      \"column\": \"email_hash\",\n      \"properties\": {\n        \"dtype\": \"string\",\n        \"num_unique_values\": 2048,\n        \"samples\": [\n          \"3950c9a0ee062b8bd115870195673211c8ac8d72ea44fd52d3bef746679b44c5\",\n          \"2204969e6f7f9f1580a851b4475a428bea539dbd5a47289a19606f7138ad0f5f\",\n          \"0a5422fd6ae87700ff727f4a48e7105636789ffad2077c62f33627c1c3b11ca9\"\n        ],\n        \"semantic_type\": \"\",\n        \"description\": \"\"\n      }\n    },\n    {\n      \"column\": \"orgyear\",\n      \"properties\": {\n        \"dtype\": \"number\",\n        \"std\": 4,\n        \"min\": 1994,\n        \"max\": 2023,\n        \"num_unique_values\": 29,\n        \"samples\": [\n          1998,\n          2010,\n          2002\n        ],\n        \"semantic_type\": \"\",\n        \"description\": \"\"\n      }\n    },\n    {\n      \"column\": \"ctc\",\n      \"properties\": {\n        \"dtype\": \"number\",\n        \"std\": 12353757,\n        \"min\": 2000,\n        \"max\": 200000000,\n        \"num_unique_values\": 366,\n        \"samples\": [\n          199800000,\n          2500000,\n          350000\n        ],\n        \"semantic_type\": \"\",\n        \"description\": \"\"\n      }\n    },\n    {\n      \"column\": \"job_position\",\n      \"properties\": {\n        \"dtype\": \"category\",\n        \"num_unique_values\": 45,\n        \"samples\": [\n          \"Release Engineer\",\n          \"Backend Architect\",\n          \"Project management profession\"\n        ],\n        \"semantic_type\": \"\",\n        \"description\": \"\"\n      }\n    },\n    {\n      \"column\": \"ctc_updated_year\",\n      \"properties\": {\n        \"dtype\": \"number\",\n        \"std\": 1,\n        \"min\": 2015,\n        \"max\": 2021,\n        \"num_unique_values\": 7,\n        \"samples\": [\n          2019,\n          2020,\n          2015\n        ],\n        \"semantic_type\": \"\",\n        \"description\": \"\"\n      }\n    },\n    {\n      \"column\": \"company_hash_cleaned\",\n      \"properties\": {\n        \"dtype\": \"string\",\n        \"num_unique_values\": 1163,\n        \"samples\": [\n          \"wxtzv\",\n          \"uhmrxwxo ovuxtzn\",\n          \"pvqzvnvpv w\"\n        ],\n        \"semantic_type\": \"\",\n        \"description\": \"\"\n      }\n    },\n    {\n      \"column\": \"Years_of_Experience\",\n      \"properties\": {\n        \"dtype\": \"number\",\n        \"std\": 4,\n        \"min\": 1,\n        \"max\": 30,\n        \"num_unique_values\": 29,\n        \"samples\": [\n          26,\n          14,\n          22\n        ],\n        \"semantic_type\": \"\",\n        \"description\": \"\"\n      }\n    },\n    {\n      \"column\": \"mean\",\n      \"properties\": {\n        \"dtype\": \"number\",\n        \"std\": 8502853.7814539,\n        \"min\": 3000.0,\n        \"max\": 200000000.0,\n        \"num_unique_values\": 1038,\n        \"samples\": [\n          2703208.7445255476,\n          2440000.0,\n          838625.0\n        ],\n        \"semantic_type\": \"\",\n        \"description\": \"\"\n      }\n    },\n    {\n      \"column\": \"median\",\n      \"properties\": {\n        \"dtype\": \"number\",\n        \"std\": 8332952.870773956,\n        \"min\": 3000.0,\n        \"max\": 200000000.0,\n        \"num_unique_values\": 469,\n        \"samples\": [\n          1430000.0,\n          1300000.0,\n          580000.0\n        ],\n        \"semantic_type\": \"\",\n        \"description\": \"\"\n      }\n    },\n    {\n      \"column\": \"max\",\n      \"properties\": {\n        \"dtype\": \"number\",\n        \"std\": 51970841,\n        \"min\": 3000,\n        \"max\": 200000000,\n        \"num_unique_values\": 424,\n        \"samples\": [\n          1360000,\n          8600000,\n          2120000\n        ],\n        \"semantic_type\": \"\",\n        \"description\": \"\"\n      }\n    },\n    {\n      \"column\": \"min\",\n      \"properties\": {\n        \"dtype\": \"number\",\n        \"std\": 7761517,\n        \"min\": 600,\n        \"max\": 200000000,\n        \"num_unique_values\": 393,\n        \"samples\": [\n          1739999,\n          12000000,\n          380000\n        ],\n        \"semantic_type\": \"\",\n        \"description\": \"\"\n      }\n    },\n    {\n      \"column\": \"count\",\n      \"properties\": {\n        \"dtype\": \"number\",\n        \"std\": 131,\n        \"min\": 1,\n        \"max\": 1219,\n        \"num_unique_values\": 158,\n        \"samples\": [\n          70,\n          458,\n          40\n        ],\n        \"semantic_type\": \"\",\n        \"description\": \"\"\n      }\n    },\n    {\n      \"column\": \"Designation\",\n      \"properties\": {\n        \"dtype\": \"number\",\n        \"std\": 0,\n        \"min\": 0,\n        \"max\": 1,\n        \"num_unique_values\": 2,\n        \"samples\": [\n          1,\n          0\n        ],\n        \"semantic_type\": \"\",\n        \"description\": \"\"\n      }\n    },\n    {\n      \"column\": \"Class\",\n      \"properties\": {\n        \"dtype\": \"category\",\n        \"num_unique_values\": 3,\n        \"samples\": [\n          2,\n          3\n        ],\n        \"semantic_type\": \"\",\n        \"description\": \"\"\n      }\n    },\n    {\n      \"column\": \"Tier\",\n      \"properties\": {\n        \"dtype\": \"category\",\n        \"num_unique_values\": 3,\n        \"samples\": [\n          2,\n          3\n        ],\n        \"semantic_type\": \"\",\n        \"description\": \"\"\n      }\n    }\n  ]\n}",
       "type": "dataframe",
       "variable_name": "df1_sample"
      },
      "text/html": [
       "\n",
       "  <div id=\"df-1041b48c-d58c-4028-8189-95d3c1007fa5\" class=\"colab-df-container\">\n",
       "    <div>\n",
       "<style scoped>\n",
       "    .dataframe tbody tr th:only-of-type {\n",
       "        vertical-align: middle;\n",
       "    }\n",
       "\n",
       "    .dataframe tbody tr th {\n",
       "        vertical-align: top;\n",
       "    }\n",
       "\n",
       "    .dataframe thead th {\n",
       "        text-align: right;\n",
       "    }\n",
       "</style>\n",
       "<table border=\"1\" class=\"dataframe\">\n",
       "  <thead>\n",
       "    <tr style=\"text-align: right;\">\n",
       "      <th></th>\n",
       "      <th>index</th>\n",
       "      <th>email_hash</th>\n",
       "      <th>orgyear</th>\n",
       "      <th>ctc</th>\n",
       "      <th>job_position</th>\n",
       "      <th>ctc_updated_year</th>\n",
       "      <th>company_hash_cleaned</th>\n",
       "      <th>Years_of_Experience</th>\n",
       "      <th>mean</th>\n",
       "      <th>median</th>\n",
       "      <th>max</th>\n",
       "      <th>min</th>\n",
       "      <th>count</th>\n",
       "      <th>Designation</th>\n",
       "      <th>Class</th>\n",
       "      <th>Tier</th>\n",
       "    </tr>\n",
       "  </thead>\n",
       "  <tbody>\n",
       "    <tr>\n",
       "      <th>201607</th>\n",
       "      <td>202840</td>\n",
       "      <td>0d2fd04b0749498f2fc81c2d399993779172a1c687fa3c...</td>\n",
       "      <td>2017</td>\n",
       "      <td>900000</td>\n",
       "      <td>Backend Engineer</td>\n",
       "      <td>2019</td>\n",
       "      <td>gqvwrt</td>\n",
       "      <td>7</td>\n",
       "      <td>1314069.0</td>\n",
       "      <td>1200000.0</td>\n",
       "      <td>4300000</td>\n",
       "      <td>4800</td>\n",
       "      <td>171</td>\n",
       "      <td>0</td>\n",
       "      <td>2</td>\n",
       "      <td>2</td>\n",
       "    </tr>\n",
       "    <tr>\n",
       "      <th>110092</th>\n",
       "      <td>110469</td>\n",
       "      <td>67e0a46250cbffc85de7f14d77133e21eb8aa64ab301fa...</td>\n",
       "      <td>2021</td>\n",
       "      <td>700000</td>\n",
       "      <td>Backend Engineer</td>\n",
       "      <td>2020</td>\n",
       "      <td>ytdvfvqt ntwyzgrgsxto</td>\n",
       "      <td>3</td>\n",
       "      <td>517500.0</td>\n",
       "      <td>485000.0</td>\n",
       "      <td>700000</td>\n",
       "      <td>400000</td>\n",
       "      <td>4</td>\n",
       "      <td>1</td>\n",
       "      <td>2</td>\n",
       "      <td>2</td>\n",
       "    </tr>\n",
       "    <tr>\n",
       "      <th>171160</th>\n",
       "      <td>172097</td>\n",
       "      <td>cfc36bd1aaa99cca952538c5987b4c24a7c5d04b12a061...</td>\n",
       "      <td>2017</td>\n",
       "      <td>8000</td>\n",
       "      <td>Backend Engineer</td>\n",
       "      <td>2019</td>\n",
       "      <td>mxzvqj eghznvxz xzw</td>\n",
       "      <td>7</td>\n",
       "      <td>8000.0</td>\n",
       "      <td>8000.0</td>\n",
       "      <td>8000</td>\n",
       "      <td>8000</td>\n",
       "      <td>1</td>\n",
       "      <td>0</td>\n",
       "      <td>3</td>\n",
       "      <td>3</td>\n",
       "    </tr>\n",
       "    <tr>\n",
       "      <th>29239</th>\n",
       "      <td>29305</td>\n",
       "      <td>7e167c43a639ca7266967fccea546c864463946784da57...</td>\n",
       "      <td>2018</td>\n",
       "      <td>1000000</td>\n",
       "      <td>FullStack Engineer</td>\n",
       "      <td>2021</td>\n",
       "      <td>yjutqmrgd</td>\n",
       "      <td>6</td>\n",
       "      <td>1000000.0</td>\n",
       "      <td>1000000.0</td>\n",
       "      <td>1000000</td>\n",
       "      <td>1000000</td>\n",
       "      <td>2</td>\n",
       "      <td>0</td>\n",
       "      <td>2</td>\n",
       "      <td>2</td>\n",
       "    </tr>\n",
       "    <tr>\n",
       "      <th>24420</th>\n",
       "      <td>24474</td>\n",
       "      <td>81659feb6c35dc8a09e070742d5aa028e2389fce81c3ce...</td>\n",
       "      <td>2021</td>\n",
       "      <td>450000</td>\n",
       "      <td>Database Administrator</td>\n",
       "      <td>2021</td>\n",
       "      <td>agotrtwn</td>\n",
       "      <td>3</td>\n",
       "      <td>450000.0</td>\n",
       "      <td>450000.0</td>\n",
       "      <td>450000</td>\n",
       "      <td>450000</td>\n",
       "      <td>1</td>\n",
       "      <td>0</td>\n",
       "      <td>3</td>\n",
       "      <td>3</td>\n",
       "    </tr>\n",
       "  </tbody>\n",
       "</table>\n",
       "</div>\n",
       "    <div class=\"colab-df-buttons\">\n",
       "\n",
       "  <div class=\"colab-df-container\">\n",
       "    <button class=\"colab-df-convert\" onclick=\"convertToInteractive('df-1041b48c-d58c-4028-8189-95d3c1007fa5')\"\n",
       "            title=\"Convert this dataframe to an interactive table.\"\n",
       "            style=\"display:none;\">\n",
       "\n",
       "  <svg xmlns=\"http://www.w3.org/2000/svg\" height=\"24px\" viewBox=\"0 -960 960 960\">\n",
       "    <path d=\"M120-120v-720h720v720H120Zm60-500h600v-160H180v160Zm220 220h160v-160H400v160Zm0 220h160v-160H400v160ZM180-400h160v-160H180v160Zm440 0h160v-160H620v160ZM180-180h160v-160H180v160Zm440 0h160v-160H620v160Z\"/>\n",
       "  </svg>\n",
       "    </button>\n",
       "\n",
       "  <style>\n",
       "    .colab-df-container {\n",
       "      display:flex;\n",
       "      gap: 12px;\n",
       "    }\n",
       "\n",
       "    .colab-df-convert {\n",
       "      background-color: #E8F0FE;\n",
       "      border: none;\n",
       "      border-radius: 50%;\n",
       "      cursor: pointer;\n",
       "      display: none;\n",
       "      fill: #1967D2;\n",
       "      height: 32px;\n",
       "      padding: 0 0 0 0;\n",
       "      width: 32px;\n",
       "    }\n",
       "\n",
       "    .colab-df-convert:hover {\n",
       "      background-color: #E2EBFA;\n",
       "      box-shadow: 0px 1px 2px rgba(60, 64, 67, 0.3), 0px 1px 3px 1px rgba(60, 64, 67, 0.15);\n",
       "      fill: #174EA6;\n",
       "    }\n",
       "\n",
       "    .colab-df-buttons div {\n",
       "      margin-bottom: 4px;\n",
       "    }\n",
       "\n",
       "    [theme=dark] .colab-df-convert {\n",
       "      background-color: #3B4455;\n",
       "      fill: #D2E3FC;\n",
       "    }\n",
       "\n",
       "    [theme=dark] .colab-df-convert:hover {\n",
       "      background-color: #434B5C;\n",
       "      box-shadow: 0px 1px 3px 1px rgba(0, 0, 0, 0.15);\n",
       "      filter: drop-shadow(0px 1px 2px rgba(0, 0, 0, 0.3));\n",
       "      fill: #FFFFFF;\n",
       "    }\n",
       "  </style>\n",
       "\n",
       "    <script>\n",
       "      const buttonEl =\n",
       "        document.querySelector('#df-1041b48c-d58c-4028-8189-95d3c1007fa5 button.colab-df-convert');\n",
       "      buttonEl.style.display =\n",
       "        google.colab.kernel.accessAllowed ? 'block' : 'none';\n",
       "\n",
       "      async function convertToInteractive(key) {\n",
       "        const element = document.querySelector('#df-1041b48c-d58c-4028-8189-95d3c1007fa5');\n",
       "        const dataTable =\n",
       "          await google.colab.kernel.invokeFunction('convertToInteractive',\n",
       "                                                    [key], {});\n",
       "        if (!dataTable) return;\n",
       "\n",
       "        const docLinkHtml = 'Like what you see? Visit the ' +\n",
       "          '<a target=\"_blank\" href=https://colab.research.google.com/notebooks/data_table.ipynb>data table notebook</a>'\n",
       "          + ' to learn more about interactive tables.';\n",
       "        element.innerHTML = '';\n",
       "        dataTable['output_type'] = 'display_data';\n",
       "        await google.colab.output.renderOutput(dataTable, element);\n",
       "        const docLink = document.createElement('div');\n",
       "        docLink.innerHTML = docLinkHtml;\n",
       "        element.appendChild(docLink);\n",
       "      }\n",
       "    </script>\n",
       "  </div>\n",
       "\n",
       "\n",
       "<div id=\"df-479450bc-2088-4787-a6ac-4f60ac86b77d\">\n",
       "  <button class=\"colab-df-quickchart\" onclick=\"quickchart('df-479450bc-2088-4787-a6ac-4f60ac86b77d')\"\n",
       "            title=\"Suggest charts\"\n",
       "            style=\"display:none;\">\n",
       "\n",
       "<svg xmlns=\"http://www.w3.org/2000/svg\" height=\"24px\"viewBox=\"0 0 24 24\"\n",
       "     width=\"24px\">\n",
       "    <g>\n",
       "        <path d=\"M19 3H5c-1.1 0-2 .9-2 2v14c0 1.1.9 2 2 2h14c1.1 0 2-.9 2-2V5c0-1.1-.9-2-2-2zM9 17H7v-7h2v7zm4 0h-2V7h2v10zm4 0h-2v-4h2v4z\"/>\n",
       "    </g>\n",
       "</svg>\n",
       "  </button>\n",
       "\n",
       "<style>\n",
       "  .colab-df-quickchart {\n",
       "      --bg-color: #E8F0FE;\n",
       "      --fill-color: #1967D2;\n",
       "      --hover-bg-color: #E2EBFA;\n",
       "      --hover-fill-color: #174EA6;\n",
       "      --disabled-fill-color: #AAA;\n",
       "      --disabled-bg-color: #DDD;\n",
       "  }\n",
       "\n",
       "  [theme=dark] .colab-df-quickchart {\n",
       "      --bg-color: #3B4455;\n",
       "      --fill-color: #D2E3FC;\n",
       "      --hover-bg-color: #434B5C;\n",
       "      --hover-fill-color: #FFFFFF;\n",
       "      --disabled-bg-color: #3B4455;\n",
       "      --disabled-fill-color: #666;\n",
       "  }\n",
       "\n",
       "  .colab-df-quickchart {\n",
       "    background-color: var(--bg-color);\n",
       "    border: none;\n",
       "    border-radius: 50%;\n",
       "    cursor: pointer;\n",
       "    display: none;\n",
       "    fill: var(--fill-color);\n",
       "    height: 32px;\n",
       "    padding: 0;\n",
       "    width: 32px;\n",
       "  }\n",
       "\n",
       "  .colab-df-quickchart:hover {\n",
       "    background-color: var(--hover-bg-color);\n",
       "    box-shadow: 0 1px 2px rgba(60, 64, 67, 0.3), 0 1px 3px 1px rgba(60, 64, 67, 0.15);\n",
       "    fill: var(--button-hover-fill-color);\n",
       "  }\n",
       "\n",
       "  .colab-df-quickchart-complete:disabled,\n",
       "  .colab-df-quickchart-complete:disabled:hover {\n",
       "    background-color: var(--disabled-bg-color);\n",
       "    fill: var(--disabled-fill-color);\n",
       "    box-shadow: none;\n",
       "  }\n",
       "\n",
       "  .colab-df-spinner {\n",
       "    border: 2px solid var(--fill-color);\n",
       "    border-color: transparent;\n",
       "    border-bottom-color: var(--fill-color);\n",
       "    animation:\n",
       "      spin 1s steps(1) infinite;\n",
       "  }\n",
       "\n",
       "  @keyframes spin {\n",
       "    0% {\n",
       "      border-color: transparent;\n",
       "      border-bottom-color: var(--fill-color);\n",
       "      border-left-color: var(--fill-color);\n",
       "    }\n",
       "    20% {\n",
       "      border-color: transparent;\n",
       "      border-left-color: var(--fill-color);\n",
       "      border-top-color: var(--fill-color);\n",
       "    }\n",
       "    30% {\n",
       "      border-color: transparent;\n",
       "      border-left-color: var(--fill-color);\n",
       "      border-top-color: var(--fill-color);\n",
       "      border-right-color: var(--fill-color);\n",
       "    }\n",
       "    40% {\n",
       "      border-color: transparent;\n",
       "      border-right-color: var(--fill-color);\n",
       "      border-top-color: var(--fill-color);\n",
       "    }\n",
       "    60% {\n",
       "      border-color: transparent;\n",
       "      border-right-color: var(--fill-color);\n",
       "    }\n",
       "    80% {\n",
       "      border-color: transparent;\n",
       "      border-right-color: var(--fill-color);\n",
       "      border-bottom-color: var(--fill-color);\n",
       "    }\n",
       "    90% {\n",
       "      border-color: transparent;\n",
       "      border-bottom-color: var(--fill-color);\n",
       "    }\n",
       "  }\n",
       "</style>\n",
       "\n",
       "  <script>\n",
       "    async function quickchart(key) {\n",
       "      const quickchartButtonEl =\n",
       "        document.querySelector('#' + key + ' button');\n",
       "      quickchartButtonEl.disabled = true;  // To prevent multiple clicks.\n",
       "      quickchartButtonEl.classList.add('colab-df-spinner');\n",
       "      try {\n",
       "        const charts = await google.colab.kernel.invokeFunction(\n",
       "            'suggestCharts', [key], {});\n",
       "      } catch (error) {\n",
       "        console.error('Error during call to suggestCharts:', error);\n",
       "      }\n",
       "      quickchartButtonEl.classList.remove('colab-df-spinner');\n",
       "      quickchartButtonEl.classList.add('colab-df-quickchart-complete');\n",
       "    }\n",
       "    (() => {\n",
       "      let quickchartButtonEl =\n",
       "        document.querySelector('#df-479450bc-2088-4787-a6ac-4f60ac86b77d button');\n",
       "      quickchartButtonEl.style.display =\n",
       "        google.colab.kernel.accessAllowed ? 'block' : 'none';\n",
       "    })();\n",
       "  </script>\n",
       "</div>\n",
       "\n",
       "    </div>\n",
       "  </div>\n"
      ],
      "text/plain": [
       "         index                                         email_hash  orgyear  \\\n",
       "201607  202840  0d2fd04b0749498f2fc81c2d399993779172a1c687fa3c...     2017   \n",
       "110092  110469  67e0a46250cbffc85de7f14d77133e21eb8aa64ab301fa...     2021   \n",
       "171160  172097  cfc36bd1aaa99cca952538c5987b4c24a7c5d04b12a061...     2017   \n",
       "29239    29305  7e167c43a639ca7266967fccea546c864463946784da57...     2018   \n",
       "24420    24474  81659feb6c35dc8a09e070742d5aa028e2389fce81c3ce...     2021   \n",
       "\n",
       "            ctc            job_position  ctc_updated_year  \\\n",
       "201607   900000        Backend Engineer              2019   \n",
       "110092   700000        Backend Engineer              2020   \n",
       "171160     8000        Backend Engineer              2019   \n",
       "29239   1000000      FullStack Engineer              2021   \n",
       "24420    450000  Database Administrator              2021   \n",
       "\n",
       "         company_hash_cleaned  Years_of_Experience       mean     median  \\\n",
       "201607                 gqvwrt                    7  1314069.0  1200000.0   \n",
       "110092  ytdvfvqt ntwyzgrgsxto                    3   517500.0   485000.0   \n",
       "171160    mxzvqj eghznvxz xzw                    7     8000.0     8000.0   \n",
       "29239               yjutqmrgd                    6  1000000.0  1000000.0   \n",
       "24420                agotrtwn                    3   450000.0   450000.0   \n",
       "\n",
       "            max      min  count  Designation Class Tier  \n",
       "201607  4300000     4800    171            0     2    2  \n",
       "110092   700000   400000      4            1     2    2  \n",
       "171160     8000     8000      1            0     3    3  \n",
       "29239   1000000  1000000      2            0     2    2  \n",
       "24420    450000   450000      1            0     3    3  "
      ]
     },
     "execution_count": 53,
     "metadata": {},
     "output_type": "execute_result"
    }
   ],
   "source": [
    "df1_sample.head()"
   ]
  },
  {
   "cell_type": "code",
   "execution_count": null,
   "id": "d65e34ae-eda8-42f2-9fe1-aa9bfe686d18",
   "metadata": {
    "colab": {
     "base_uri": "https://localhost:8080/"
    },
    "id": "d65e34ae-eda8-42f2-9fe1-aa9bfe686d18",
    "outputId": "6e0f6e55-e6ca-4154-da83-c2b0ab25e72d"
   },
   "outputs": [
    {
     "data": {
      "text/plain": [
       "(2057, 16)"
      ]
     },
     "execution_count": 54,
     "metadata": {},
     "output_type": "execute_result"
    }
   ],
   "source": [
    "df1_sample.shape"
   ]
  },
  {
   "cell_type": "code",
   "execution_count": null,
   "id": "yr2-DN1Y3DQ8",
   "metadata": {
    "id": "yr2-DN1Y3DQ8"
   },
   "outputs": [],
   "source": [
    "# Standardize the numeric columns for clustering\n",
    "scaler = StandardScaler()\n",
    "df1_sample_scaled = scaler.fit_transform(df1_sample[['ctc', 'Years_of_Experience']])"
   ]
  },
  {
   "cell_type": "code",
   "execution_count": null,
   "id": "9d7a5217-2142-4702-88bd-69d2db4ef1de",
   "metadata": {
    "id": "9d7a5217-2142-4702-88bd-69d2db4ef1de"
   },
   "outputs": [],
   "source": [
    "# Re-run hierarchical clustering on the downsampled data"
   ]
  },
  {
   "cell_type": "code",
   "execution_count": null,
   "id": "1ff7829e-6ab1-46bb-8b74-e4ebc720cbce",
   "metadata": {
    "colab": {
     "base_uri": "https://localhost:8080/",
     "height": 434
    },
    "id": "1ff7829e-6ab1-46bb-8b74-e4ebc720cbce",
    "outputId": "870a5453-ed80-49c8-bb14-d15e7e3dc66a"
   },
   "outputs": [
    {
     "data": {
      "image/png": "[encoded data removed]",
      "text/plain": [
       "<Figure size 640x480 with 1 Axes>"
      ]
     },
     "metadata": {},
     "output_type": "display_data"
    }
   ],
   "source": [
    "# Perform hierarchical clustering on a sample\n",
    "Z = linkage(df1_sample_scaled, 'ward')\n",
    "dendrogram(Z)\n",
    "plt.show()"
   ]
  },
  {
   "cell_type": "code",
   "execution_count": null,
   "id": "R8B55SMm5mRn",
   "metadata": {
    "id": "R8B55SMm5mRn"
   },
   "outputs": [],
   "source": []
  },
  {
   "cell_type": "code",
   "execution_count": null,
   "id": "EGNdRrGI-beN",
   "metadata": {
    "id": "EGNdRrGI-beN"
   },
   "outputs": [],
   "source": []
  }
 ],
 "metadata": {
  "colab": {
   "provenance": []
  },
  "kernelspec": {
   "display_name": "Python 3 (ipykernel)",
   "language": "python",
   "name": "python3"
  },
  "language_info": {
   "codemirror_mode": {
    "name": "ipython",
    "version": 3
   },
   "file_extension": ".py",
   "mimetype": "text/x-python",
   "name": "python",
   "nbconvert_exporter": "python",
   "pygments_lexer": "ipython3",
   "version": "3.12.3"
  }
 },
 "nbformat": 4,
 "nbformat_minor": 5
}
